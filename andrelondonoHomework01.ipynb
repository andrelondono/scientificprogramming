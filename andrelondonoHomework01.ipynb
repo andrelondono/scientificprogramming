{
 "cells": [
  {
   "cell_type": "code",
   "execution_count": null,
   "metadata": {
    "collapsed": true
   },
   "outputs": [],
   "source": [
    "Andre Londono\n",
    "Dis 102"
   ]
  },
  {
   "cell_type": "markdown",
   "metadata": {},
   "source": [
    "# Homework 1: Python basics and a little plotting"
   ]
  },
  {
   "cell_type": "markdown",
   "metadata": {},
   "source": [
    "** Submit this notebook to bCourses to receive a credit for this assignment.**\n",
    "\n",
    "Please complete this homework assignment in code cells in the iPython notebook. Include comments in your code when necessary. Enter your name in the cell at the top of the notebook, and rename the notebook [email_name]_HW01.ipynb, where [email_name] is the part of your UCB email address that precedes \"@berkeley.edu\" "
   ]
  },
  {
   "cell_type": "markdown",
   "metadata": {},
   "source": [
    "## Problem 1: Satellite Altitudes\n",
    "\n",
    "[Adapted from Newman, Exercise 2.2] A satellite is to be launched into a circular orbit around the Earth so that it orbits the planet once every $T$ seconds. The altitude $h$ above the Earth's surface that the satellite must have is $$ h = \\left( \\frac{G M T^2}{4 \\pi^2} \\right)^{1/3} - R, $$ where $G = 6.67 \\times 10^{-11}~\\text{m}^3~\\text{kg}^{-1}~\\text{s}^{-2}$ is Newton's gravitational constant, $M = 5.97 \\times 10^{24}~\\text{kg}$ is the mass of the Earth, and $R = 6371~\\text{km}$ is its radius."
   ]
  },
  {
   "cell_type": "markdown",
   "metadata": {},
   "source": [
    "**1a.** Write a program that asks the user to enter the desired value of $T$ and then calculates and prints out the correct altitude in meters, kilometers, and miles, with one decimal place for each result.\n",
    "\n",
    "*Output for 1a*: When the code cell for this part of the problem is entered, it should ask the user for a value of $T$ in some units which the prompt should specify. After the user inputs a value, the program should print out the correct altitude in meters, kilometers, and miles, with one decimal place for each result."
   ]
  },
  {
   "cell_type": "code",
   "execution_count": null,
   "metadata": {
    "collapsed": false
   },
   "outputs": [],
   "source": [
    "import numpy as np\n",
    "from fractions import Fraction\n",
    "g= 0.0000000000667\n",
    "m = 5.97*10**24\n",
    "r=6371.0\n",
    "t = input( \"value of T in seconds: \")\n",
    "h = float(((g*m*t**2)/(4*(np.pi)**2))**Fraction(1,3) - r)\n",
    "print  (round(h,1), \"meters\")\n",
    "print (round(h/1000.0, 1), \"kilometers\")\n",
    "print (round(h*0.000621371192,1), \"miles\" )"
   ]
  },
  {
   "cell_type": "markdown",
   "metadata": {},
   "source": [
    "*Output for 1b and 1c:* Use code cells to carry out the desired calculations, and Markdown cells to present and discuss your results."
   ]
  },
  {
   "cell_type": "markdown",
   "metadata": {},
   "source": [
    "**1b.** Use your program to calculate the altitudes of satellites that orbit the Earth once a day (so-called \"geosynchronous\" orbit), once every 90 minutes, and once every 45 minutes. What do you conclude from the last of these calculations?"
   ]
  },
  {
   "cell_type": "markdown",
   "metadata": {
    "collapsed": true
   },
   "source": [
    "Geosychronous orbit requires an altitude of 42220539.2 meters\n",
    "90 minutes requires a height of 6643950.6 meters\n",
    "45 minutes requires a height of 4183069.1 meters"
   ]
  },
  {
   "cell_type": "markdown",
   "metadata": {},
   "source": [
    "**1c.** Technically a geosynchronous satellite is one that orbits the Earth once per *sidereal day*, which is 23.93 hours, not 24 hours. Why is this? And how much difference will it make to the altitude of the satellite?"
   ]
  },
  {
   "cell_type": "markdown",
   "metadata": {},
   "source": [
    "The reason why is because the sidereal day is the exact time it takes for the earth to rotate about its axis so that distant stars appear in the same position in the sky whereas the 24 hours is the time it takes for the earth to rotate about its axis such that the sun appears in the same spot. The difference in altitude is 42220539.2-42138391.3= 82147.9 meters"
   ]
  },
  {
   "cell_type": "markdown",
   "metadata": {},
   "source": [
    "#### Hints\n",
    "\n",
    "Be very careful of units! Unlike wolframalpha.com, python is oblivious to what units your various numbers represent. You need to carefully keep track of them to make sure that your units work out. Not converting units properly can lead to [very expensive disasters](https://en.wikipedia.org/wiki/Mars_Climate_Orbiter) or just wrong scientific results ...\n",
    "\n",
    "Remember to comment your code and use descriptive variable names so others (and future you) can understand what you're doing!"
   ]
  },
  {
   "cell_type": "markdown",
   "metadata": {},
   "source": [
    "## Problem 2: Perfect Hardboiled Eggs\n",
    "\n",
    "[Adapted from Langtangen, Exercise 1.12] As an egg cooks, the proteins first denature and then coagulate. When the temperature exceeds a critical point, reactions begin and proceed faster as the temperature increases. In the egg white the proteins start to coagulate for temperatures above 63 C, while in the  yolk the proteins start to coagulate for temperatures above 70 C. For a soft boiled egg, the white needs to have been heated long enough to coagulate at a temperature aboe 63 C, but the yolk should not be heated aboce 70 C. For a hard boiled egg, the center of the yolk shuld be allowed to reach 70 C.\n",
    "\n",
    "The following formula expresses the time $t$ it takes (in seconds) for the center of the yolk to reach the temperature $T_y$ (in Celsius degrees): $$ t = \\frac{M^{2/3} c \\rho^{1/3}}{K \\pi^2 (4\\pi/3)^{2/3}} \\ln \\left[ 0.76 \\frac{T_0 - T_w}{T_y - T_w} \\right] . $$ Here, $M$, $\\rho$, $c$, and $K$ are properties of the egg:\n",
    "* $M$ is the mass,\n",
    "* $\\rho$ is the density,\n",
    "* $c$ is the specific heat capacity, and \n",
    "* $K$ is the thermal conductivity.\n",
    "\n",
    "Relevant values are\n",
    "* $M = 64~\\text{g}$ for a large egg (USA size XL: en.wikipedia.org/wiki/Chicken_egg_sizes),\n",
    "* $\\rho = 1.0378~\\text{g cm}^{-3}$,\n",
    "* $c = 3.7~\\text{J g}^{-1}\\,\\text{K}^{-1}$, and\n",
    "* $K = 5.4 \\cdot 10^{-3}~\\text{W cm}^{-1}\\,\\text{K}^{-1}$.\n",
    "\n",
    "Furthermore,\n",
    "* $T_w$ is the temperature (in C degrees) of the boiling water, and\n",
    "* $T_0$ is the original temperature (in C degrees) of the egg before being put in the water.\n",
    "\n",
    "Suppose we want our eggs hard-boiled. Implement the formula in a program, set $T_w = 100~\\text{C}$ and $T_y = 70~\\text{C}$, and compute $t$ for a large egg taken from the fridge ($T_0 = 4~\\text{C}$) and from room temperature ($T_0 = 20~\\text{C}$). Also compute the results for a small egg ($M = 42~\\text{g}$)."
   ]
  },
  {
   "cell_type": "code",
   "execution_count": 7,
   "metadata": {
    "collapsed": false
   },
   "outputs": [
    {
     "data": {
      "text/plain": [
       "6.4"
      ]
     },
     "execution_count": 7,
     "metadata": {},
     "output_type": "execute_result"
    }
   ],
   "source": [
    "384/60"
   ]
  },
  {
   "cell_type": "markdown",
   "metadata": {},
   "source": [
    "*Output for 2:*\n",
    "When you run your code cell, it should produce the following text, with your numbers instead of the `TTT`, `MMM`, and `SSS` placeholders:\n",
    "\n",
    "    To hard-boil a large egg taken directly from the fridge, cook it for TTT minutes (MMM min, SSS sec).\n",
    "    To hard-boil a small egg taken directly from the fridge, cook it for TTT minutes (MMM min, SSS sec).\n",
    "    To hard-boil a large egg starting from room temperature, cook it for TTT minutes (MMM min, SSS sec).\n",
    "    To hard-boil a small egg starting from room temperature, cook it for TTT minutes (MMM min, SSS sec).\n",
    "\n",
    "The `TTT` placeholders should be values in minutes to two decimal places. The `MMM` and `SSS` placeholders should be rounded to the nearest minute/second, with no decimal places. For example,\n",
    "\n",
    "    To hard-boil a large egg taken directly from the fridge, cook it for 56.78 minutes (56 min 47 sec).\n",
    "    "
   ]
  },
  {
   "cell_type": "code",
   "execution_count": 9,
   "metadata": {
    "collapsed": false
   },
   "outputs": [
    {
     "name": "stdout",
     "output_type": "stream",
     "text": [
      "('To hard-boil a large egg taken directly from the fridge cook it for', 6.41, 'minutes', (6, 'mins', 25.0, 'secs'))\n",
      "('To hard-boil a small egg taken directly from the fridge cook it for', 4.84, 'minutes', (4, 'mins', 50.0, 'secs'))\n",
      "('To hard-boil a large egg starting from room temperature cook it for', 5.1, 'minutes', (5, 'mins', 6.0, 'secs'))\n",
      "('To hard-boil a small egg starting from room temperature cook it for', 3.85, 'minutes', (3, 'mins', 51.0, 'secs'))\n"
     ]
    }
   ],
   "source": [
    "import numpy as np\n",
    "from __future__ import division\n",
    "#from pylab import*\n",
    "p = 1.0378\n",
    "c = 3.7\n",
    "k = 5.4*10**(-3)\n",
    "tw = 100.0\n",
    "ty = 70.0\n",
    "#m = input(\"mass of egg: \")\n",
    "#t0= input(\"initial temperature of egg: \")\n",
    "\n",
    "#def time(m, t0):\n",
    "#    def f1():\n",
    "#        return float(((m**(2/3)*c*(p**(1/3))/(k*(np.pi**2)*((4/3)*np.pi)**(2/3))))) \n",
    "#    def f2():\n",
    "#        return float(np.log(0.76*(t0-tw)/(ty-tw)))\n",
    "#    T=(f1() * f2())\n",
    "#    return T\n",
    "\n",
    "def time(m,t_0):\n",
    "    x = (m**(2./3.)*c*p**(1./3))/(k*np.pi**2*((4*np.pi/3))**(2./3))\n",
    "    v = np.log(0.76*(t_0-tw)/(ty-tw))\n",
    "    T = (x*v) \n",
    "    return round(T/60.,2)\n",
    "\n",
    "#printing something be cautious with decimal points\n",
    "#print \"%.2f\"\n",
    "#time = 5.09\n",
    "#sec = (time - 5) * 60\n",
    "#print \"%d\" % round(sec)\n",
    "    \n",
    "    \n",
    "                   \n",
    "def minsec(T):\n",
    "    minute, second = int(T), round((T%1)*60, 0)\n",
    "    return (minute ,\"mins\", second,  \"secs\")\n",
    "\n",
    "               \n",
    "T1 = time(64., 4.)\n",
    "print(\"To hard-boil a large egg taken directly from the fridge cook it for\", T1, \"minutes\", (minsec(T1)))\n",
    "T2 = time(42.,4.)\n",
    "print(\"To hard-boil a small egg taken directly from the fridge cook it for\", T2, \"minutes\", (minsec(T2)))\n",
    "T3 = time(64., 20.)\n",
    "print(\"To hard-boil a large egg starting from room temperature cook it for\", T3, \"minutes\", (minsec(T3)))\n",
    "T4 = time(42.,20.)\n",
    "print(\"To hard-boil a small egg starting from room temperature cook it for\", T4, \"minutes\", (minsec(T4)))\n"
   ]
  },
  {
   "cell_type": "markdown",
   "metadata": {},
   "source": [
    "#### Hints\n",
    "\n",
    "Writing the entire formula in one line is difficult to type, difficult to read, difficult to debug---and you have to retype the entire calculation just to change one piece of it. Try breaking it down in smaller chunks assigned to variables, and combine those chunks to produce the final result.\n",
    "\n",
    "Beware of integer division!\n",
    "\n",
    "Remember to comment your code and use descriptive variable names so others (and future you) can understand what you're doing!"
   ]
  },
  {
   "cell_type": "markdown",
   "metadata": {},
   "source": [
    "## Problem 3: Estimating Half-Life\n",
    "\n",
    "[Adapted from Ayars, Problem 0-3] The data in file Ba137.txt (available here: https://raw.githubusercontent.com/celegante/code_chapter_0-_github/master/Ba137.txt) is actual data from a radioactive decay experiment; the first column is the number of decays $N$, the second is the time $t$ in seconds. We'd like to know the half-life $t_{1/2}$ of $^{137}\\text{Ba}$. It should follow the decay equation $$ N = N_0 e^{-\\lambda t} $$ where $\\lambda = \\frac{\\log 2}{t_{1/2}}$. Using the techniques you've learned from the lecture and workshop, load the data from the file Ba137.txt into appropriately-named variables. Experiment with different values of $N$ and $\\lambda$ and plot the resulting equation on top of the data. (Python uses `exp()` to calculate the exponential function: i.e. `y = A*exp(-L*time)` ) Don't worry about automating this process yet (unless you *really* want to!) just try adjusting things by hand until the equation matches the data pretty well. What is your best estimate for $t_{1/2}$?"
   ]
  },
  {
   "cell_type": "markdown",
   "metadata": {},
   "source": [
    "*Output for 3:*\n",
    "When you run your code cell, it should produce a well-labeled plot with both the data and your curve of best fit. It should also print a message to the terminal which says, \"My best estimate for the half life is $x$\", where $x$ is your estimate with units."
   ]
  },
  {
   "cell_type": "code",
   "execution_count": 48,
   "metadata": {
    "collapsed": false
   },
   "outputs": [
    {
     "name": "stdout",
     "output_type": "stream",
     "text": [
      "('My best estimate for half life is', 175, 'seconds')\n"
     ]
    },
    {
     "data": {
      "image/png": "[encoded data removed]",
      "text/plain": [
       "<matplotlib.figure.Figure at 0x112dfeb10>"
      ]
     },
     "metadata": {},
     "output_type": "display_data"
    }
   ],
   "source": [
    "import numpy as np\n",
    "import matplotlib.pyplot as plt\n",
    "\n",
    "#data = np.loadtxt(/Users/andre/Downloads/ba137.txt)\n",
    "%matplotlib inline\n",
    "t=np.linspace(0.01,4000,1000)\n",
    "N0 = 27635\n",
    "l=np.log(2)/175\n",
    "N=N0*np.exp(-l*t)\n",
    "#plt.plot(t,N,\"r\")\n",
    "y, x = np.loadtxt('ba137.txt', unpack = True)\n",
    "plt.plot(y, x, label = \"Data\")\n",
    "#plt.plot(t,N, 'r', label = \"Equation\")\n",
    "plt.plot(N, t, \"r\", label = \"Equation\")\n",
    "\n",
    "\n",
    "plt.xlabel(\"Time (s)\")\n",
    "plt.ylabel(\"Number of decays (N)\")\n",
    "plt.title(\"BA 137 half life\")\n",
    "\n",
    "axes = plt.gca()\n",
    "axes.set_xlim([0,40000])\n",
    "axes.set_ylim([0,600])\n",
    "#axes.set_xlim([0,500])\n",
    "#axes.set_ylim([0,11])\n",
    "plt.legend()\n",
    "print(\"My best estimate for half life is\", 175 , 'seconds')\n",
    "plt.show()\n"
   ]
  },
  {
   "cell_type": "code",
   "execution_count": 49,
   "metadata": {
    "collapsed": false
   },
   "outputs": [
    {
     "data": {
      "image/png": "[encoded data removed]",
      "text/plain": [
       "<matplotlib.figure.Figure at 0x1139dd7d0>"
      ]
     },
     "metadata": {},
     "output_type": "display_data"
    }
   ],
   "source": [
    "import numpy as np\n",
    "import matplotlib.pyplot as plt\n",
    "from scipy.stats import linregress\n",
    "\n",
    "#data = np.loadtxt(/Users/andre/Downloads/ba137.txt)\n",
    "%matplotlib inline\n",
    "t=np.linspace(0.01,4000,1000)\n",
    "N0 = 27635\n",
    "l=np.log(2)/169\n",
    "\n",
    "N=N0*np.exp(-l*t)\n",
    "#plt.plot(t,N,\"r\")\n",
    "plt.plot(t, np.log(N), \"r\", label = \"Equation\")\n",
    "\n",
    "y, x = np.loadtxt('ba137.txt', unpack = True)\n",
    "plt.plot(x, np.log(y), label = \"Data\")\n",
    "m,b = np.polyfit(y,x,1)\n",
    "#m,b = np.polyfit(N, t, 1)\n",
    "#print m\n",
    "#print linregress(x,y) \n",
    "\n",
    "\n",
    "plt.xlabel(\"Time (s)\")\n",
    "plt.ylabel(\"Number of decays (N)\")\n",
    "plt.title(\"BA 137 half life\")\n",
    "axes = plt.gca()\n",
    "#axes.set_xlim([0,40000])\n",
    "#axes.set_ylim([0,600])\n",
    "axes.set_xlim([0,500])\n",
    "axes.set_ylim([0,11])\n",
    "plt.legend()\n",
    "plt.grid(True)\n",
    "\n",
    "#print(\"My best estimate for half life is\", round(np.log(2)/-m, 5) , 'seconds')\n",
    "\n",
    "plt.show()\n"
   ]
  },
  {
   "cell_type": "markdown",
   "metadata": {},
   "source": [
    "#### Hints\n",
    "\n",
    "Remember to comment your code and use descriptive variable names so others (and future you) can understand what you're doing!"
   ]
  }
 ],
 "metadata": {
  "kernelspec": {
   "display_name": "Python 2",
   "language": "python",
   "name": "python2"
  },
  "language_info": {
   "codemirror_mode": {
    "name": "ipython",
    "version": 2
   },
   "file_extension": ".py",
   "mimetype": "text/x-python",
   "name": "python",
   "nbconvert_exporter": "python",
   "pygments_lexer": "ipython2",
   "version": "2.7.11"
  }
 },
 "nbformat": 4,
 "nbformat_minor": 0
}
