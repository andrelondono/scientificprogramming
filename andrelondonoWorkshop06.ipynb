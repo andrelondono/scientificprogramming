{
 "cells": [
  {
   "cell_type": "markdown",
   "metadata": {},
   "source": [
    "# Workshop 6: Monte Carlo techniques"
   ]
  },
  {
   "cell_type": "markdown",
   "metadata": {},
   "source": [
    "## Preview: generating random numbers"
   ]
  },
  {
   "cell_type": "markdown",
   "metadata": {},
   "source": [
    "We have already discussed random numbers in Week 5. The first step in similating nature -- which, despite Einstein's objections, is playing dice after all -- is to learn how to generate some numbers that appear random. Of course, computers cannot generate true random numbers -- they have to follow an algorithm. But the algorithm may be based on something that is difficult to predict (e.g. the time of day you are executing this code) and therefore *look* random to a human. Sequences of such numbers are called *pseudo-random*. \n",
    "\n",
    "The random variables you generate will be distributed according to some *Probability Density Function* (PDF). The most common PDF is *flat*: $f(x)=\\frac{1}{b-a}$ for $x\\in [a..b]$. Here is how to get a random number uniformly distributed between $a=0$ and $b=1$ in Python:"
   ]
  },
  {
   "cell_type": "code",
   "execution_count": 2,
   "metadata": {
    "collapsed": false
   },
   "outputs": [
    {
     "name": "stdout",
     "output_type": "stream",
     "text": [
      "x= 0.3971345108\n",
      "[ 0.31787188  0.5274782   0.41442429  0.22965637  0.41651156  0.92173707\n",
      "  0.04219157  0.00447381  0.3713746   0.61803248]\n"
     ]
    }
   ],
   "source": [
    "# standard preamble\n",
    "import numpy as np\n",
    "import scipy as sp      \n",
    "from scipy import stats\n",
    "import matplotlib.pyplot as plt\n",
    "%matplotlib inline\n",
    "\n",
    "# generate one random number between [0,1)\n",
    "x = np.random.rand()\n",
    "print 'x=',x\n",
    "\n",
    "# generate an array of 10 random numbers between [0,1)\n",
    "array = np.random.rand(10)\n",
    "print array"
   ]
  },
  {
   "cell_type": "markdown",
   "metadata": {},
   "source": [
    "You can generate a set of randomly-distributed integer values instead:"
   ]
  },
  {
   "cell_type": "code",
   "execution_count": 3,
   "metadata": {
    "collapsed": false
   },
   "outputs": [
    {
     "name": "stdout",
     "output_type": "stream",
     "text": [
      "[656 306 611 626 579 762 341 528 754 138]\n"
     ]
    }
   ],
   "source": [
    "a = np.random.randint(0,1000,10)  \n",
    "print a"
   ]
  },
  {
   "cell_type": "markdown",
   "metadata": {},
   "source": [
    "Choose a random element from a set:"
   ]
  },
  {
   "cell_type": "code",
   "execution_count": 4,
   "metadata": {
    "collapsed": false
   },
   "outputs": [
    {
     "name": "stdout",
     "output_type": "stream",
     "text": [
      "b\n"
     ]
    }
   ],
   "source": [
    "print np.random.choice(['a','b','c','d','e','f','g','h','i','j'])  "
   ]
  },
  {
   "cell_type": "markdown",
   "metadata": {
    "collapsed": true
   },
   "source": [
    "## Linear Congruent Generator\n",
    "\n",
    "It is instructive at this point how a random number generator may be constructed. We discussed Linear Congruent Generator in lecture. Here is a simple piece of code implementing such a generator:"
   ]
  },
  {
   "cell_type": "code",
   "execution_count": 30,
   "metadata": {
    "collapsed": false
   },
   "outputs": [
    {
     "name": "stdout",
     "output_type": "stream",
     "text": [
      "8061297\n"
     ]
    }
   ],
   "source": [
    "myRandomSeed = 123\n",
    "def myRandom(a=65539, b=0, c=int(2**31-1)):\n",
    "    global myRandomSeed\n",
    "    x = (a*myRandomSeed+b) % c\n",
    "    myRandomSeed = x\n",
    "    return x\n",
    "\n",
    "print myRandom()\n",
    "\n"
   ]
  },
  {
   "cell_type": "markdown",
   "metadata": {},
   "source": [
    "You can use it in two steps:\n",
    "1. Set a seed *myRandom*\n",
    "1. Call *myRandom()*: either with default parameters, or by setting parameters *a*, *b*, and *c* explicitly:"
   ]
  },
  {
   "cell_type": "code",
   "execution_count": 31,
   "metadata": {
    "collapsed": false
   },
   "outputs": [
    {
     "name": "stdout",
     "output_type": "stream",
     "text": [
      "5 random integers with default parameters: 48366921 233772447 1064066235 453022987 1712125218 \n",
      "20 random integers with explicit parameters, pattern repeats: 0 3 2 5 4 7 6 1 0 3 2 5 4 7 6 1 0 3 2 5 \n"
     ]
    }
   ],
   "source": [
    "out = \"\"\n",
    "for i in range(5):\n",
    "    out += str(myRandom())\n",
    "    out += \" \"\n",
    "    \n",
    "print '5 random integers with default parameters:', out\n",
    "    \n",
    "out = \"\"\n",
    "myRandomSeed = 1\n",
    "for i in range(20):\n",
    "    out += str(myRandom(a=5, b=3, c=8))\n",
    "    out += \" \"\n",
    "\n",
    "print '20 random integers with explicit parameters, pattern repeats:',out"
   ]
  },
  {
   "cell_type": "markdown",
   "metadata": {},
   "source": [
    "As you can see from the example above, the choice of parameters affects how quickly the pattern of pseudo-random numbers repeats. The parameters also determine how *random* the sequence appears to be\n",
    "\n",
    "## Exercise 1\n",
    "\n",
    "Analyze how random the sequence is:\n",
    "1. Write a piece of code to determine the period of a random number sequence. You code should abort if the sequence is too long and return a lower limit on the period.\n",
    "1. Test you code with *myRandom()* and two sets of parameters above: the default and *a=5, b=3, c=8*\n",
    "1. Test your code with *numpy.random.randint*\n",
    "1. Plot a histogram of random numbers returned by *numpy.random.rand()*. Compute mean and standard deviation of this distribution. Does it look like what you expect from the uniform distribution ? \n",
    "1. Make a scatter plot of pairs of sequentual random numbers returned by *numpy.random.rand()*. Does it look like what you expect from the uniform distribution ? "
   ]
  },
  {
   "cell_type": "code",
   "execution_count": 34,
   "metadata": {
    "collapsed": false
   },
   "outputs": [
    {
     "name": "stdout",
     "output_type": "stream",
     "text": [
      "20 random integers with explicit parameters, pattern repeats: [2, 5, 4, 7, 6, 1, 0, 3, 2, 5, 4, 7, 6, 1, 0, 3, 2, 5, 4, 7]\n",
      "Mean 1.0029516189\n",
      "Standard Deviation 3.38635441563\n"
     ]
    },
    {
     "data": {
      "image/png": "[encoded data removed]",
      "text/plain": [
       "<matplotlib.figure.Figure at 0x1175fec10>"
      ]
     },
     "metadata": {},
     "output_type": "display_data"
    }
   ],
   "source": [
    "import numpy as np\n",
    "import matplotlib.pyplot as plt\n",
    "import scipy as sp\n",
    "from scipy import stats\n",
    "%matplotlib inline\n",
    "\n",
    "myRandomSeed = 123\n",
    "def myRandom(a=5, b=3, c=8):\n",
    "    global myRandomSeed\n",
    "    x = (a*myRandomSeed+b) % c\n",
    "    myRandomSeed = x\n",
    "    return x\n",
    "\n",
    "\n",
    "def period_finder(a):\n",
    "    count = 0\n",
    "    for x in a:\n",
    "        if a[0]==a[x]:\n",
    "            return count\n",
    "        count += 1\n",
    "        \n",
    "        \n",
    "        \n",
    "def create_seq():\n",
    "    out = []\n",
    "    myRandomSeed = 1\n",
    "    for i in range(20):\n",
    "        out.append(myRandom(a=5, b=3, c=8))\n",
    "    return out \n",
    "\n",
    "print '20 random integers with explicit parameters, pattern repeats:', create_seq()\n",
    "\n",
    "\n",
    "plt.subplot(2,1,1)\n",
    "n, bins, patches = plt.hist(np.random.rand(5,10), 50 ,normed=True)\n",
    "print 'Mean', sp.mean(n)\n",
    "print 'Standard Deviation', sp.std(n)\n",
    "plt.subplot(2,1,2)\n",
    "plt.scatter(np.random.rand(5,10), np.random.rand(5,10))\n",
    "\n",
    "\n",
    "plt.show()"
   ]
  },
  {
   "cell_type": "markdown",
   "metadata": {},
   "source": [
    "## Example: Python random number generators\n"
   ]
  },
  {
   "cell_type": "code",
   "execution_count": 12,
   "metadata": {
    "collapsed": false
   },
   "outputs": [
    {
     "data": {
      "image/png": "[encoded data removed]",
      "text/plain": [
       "<matplotlib.figure.Figure at 0x11417dd50>"
      ]
     },
     "metadata": {},
     "output_type": "display_data"
    },
    {
     "data": {
      "image/png": "[encoded data removed]",
      "text/plain": [
       "<matplotlib.figure.Figure at 0x117375e10>"
      ]
     },
     "metadata": {},
     "output_type": "display_data"
    },
    {
     "data": {
      "image/png": "[encoded data removed]",
      "text/plain": [
       "<matplotlib.figure.Figure at 0x11730fe50>"
      ]
     },
     "metadata": {},
     "output_type": "display_data"
    }
   ],
   "source": [
    "# Exponential\n",
    "plt.hist(np.random.exponential(scale=2,size=10000),50,normed=True)\n",
    "plt.show()\n",
    "\n",
    "# Cauchy\n",
    "plt.hist(np.random.standard_cauchy(size=100),20,normed=True)\n",
    "plt.show()\n",
    "\n",
    "# Triangular\n",
    "plt.hist(np.random.triangular(5,10,15,size=100000),50,normed=True)\n",
    "plt.show()"
   ]
  },
  {
   "cell_type": "markdown",
   "metadata": {},
   "source": [
    "## Exercise 2\n",
    "\n",
    "1. Compute mean and standard deviation of a 10,000 event sample generated according to\n",
    "    1. Exponential distribution\n",
    "    1. Cauchy distribution\n",
    "Do the results make sense ? \n",
    "1. Generate 100,000 pairs of uniformly-distributed random numbers $x\\in[0..1]$ and $y\\in[0..1]$. Make a histogram of the distribution of $x+y$ and $x-y$. Do they look like what you would expect ? "
   ]
  },
  {
   "cell_type": "markdown",
   "metadata": {},
   "source": [
    "## Exercise 3: Generating an arbitrary distribution\n",
    "\n",
    "1. Starting from a uniform random number distribution (*numpy.random.rand()*), generate 10,000 gaussian-distributed random numbers using inverse transform method:\n",
    "    1. Generate a pair of uniform-distributed numbers $u_1\\in[0..1]$ and $u_2\\in[0..1]$\n",
    "    1. Compute $z_1=\\sin(2\\pi u_1)\\sqrt{-2\\ln u_2}$ and $z_2=\\cos(2\\pi u_1)\\sqrt{-2\\ln u_2}$\n",
    "1. Make a histogram of $z_1$ and $z_2$\n",
    "1. Make a scatter plot of $z_2$ vs $z_1$. \n",
    "1. Do the results follow your expectations ? "
   ]
  },
  {
   "cell_type": "code",
   "execution_count": 28,
   "metadata": {
    "collapsed": false
   },
   "outputs": [
    {
     "data": {
      "image/png": "[encoded data removed]",
      "text/plain": [
       "<matplotlib.figure.Figure at 0x11639bf50>"
      ]
     },
     "metadata": {},
     "output_type": "display_data"
    }
   ],
   "source": [
    "import numpy as np\n",
    "import matplotlib.pyplot as plt\n",
    "import scipy as sp\n",
    "from scipy import stats\n",
    "%matplotlib inline\n",
    "\n",
    "a = 0\n",
    "b = 1\n",
    "\n",
    "#rand = np.random.rand() \n",
    "rand = np.random.standard_normal(size = 10000)\n",
    "u1 = np.random.uniform(low = a,high = b, size =10000)\n",
    "u2 = np.random.uniform(low = a, high = b, size =10000)\n",
    "\n",
    "z1 = np.sin(2*(np.pi)*u1)*np.sqrt(-2*np.log(u2))\n",
    "z2 = np.cos(2*np.pi*u1) *np.sqrt(-2*np.log(u2))\n",
    "\n",
    "plt.subplot(3,1,1)\n",
    "plt.title('Generating Arbitrary Distributions')\n",
    "n, bins, patches = plt.hist(z1, 100, color = 'r')\n",
    "plt.subplot(3,1,2)\n",
    "b, bins, patches = plt.hist(z2, 100, color = 'm')\n",
    "plt.subplot(3,1, 3)\n",
    "plt.scatter(z2, z1)\n",
    "plt.tight_layout()\n",
    "plt.show()\n",
    "\n"
   ]
  },
  {
   "cell_type": "markdown",
   "metadata": {},
   "source": [
    "## Exercise 4: Integration by accept-reject Monte Carlo method\n",
    "\n",
    "Compute the value of $\\pi$ using Monte Carlo method. \n",
    "1. Implement the Monte Carlo accept-reject method for computing $\\pi$\n",
    "1. For a given number of events $N$ you use in the calculation, compute\n",
    "    1. The estimate of $\\pi$\n",
    "    1. The estimated precision of the value $\\pi$\n",
    "1. Plot the difference between estimated and true value of $\\pi$ as a function of the number of events $N$ and compare that difference to the uncertainty you estimated"
   ]
  },
  {
   "cell_type": "code",
   "execution_count": 26,
   "metadata": {
    "collapsed": false
   },
   "outputs": [
    {
     "name": "stdout",
     "output_type": "stream",
     "text": [
      "3.32\n",
      "3.14192\n"
     ]
    },
    {
     "data": {
      "image/png": "[encoded data removed]",
      "text/plain": [
       "<matplotlib.figure.Figure at 0x11637f290>"
      ]
     },
     "metadata": {},
     "output_type": "display_data"
    }
   ],
   "source": [
    "import numpy as np\n",
    "import matplotlib.pyplot as plt\n",
    "import scipy as sp\n",
    "from scipy import stats\n",
    "import math\n",
    "import random\n",
    "from __future__ import division\n",
    "%matplotlib inline\n",
    "\n",
    "random.seed()\n",
    "\n",
    "def calculatepi(N):\n",
    "    throws = 0\n",
    "    hits = 0  # initialize hits with 0\n",
    "\n",
    "    for i in range(0,N):\n",
    "        x = np.random.random()\n",
    "        y = np.random.random()\n",
    "        throws = throws + 1\n",
    "\n",
    "        if(x*x + y*y <=1):\n",
    "            hits = hits+1\n",
    "    \n",
    "    return 4* (hits/throws)\n",
    "\n",
    "print calculatepi(100)\n",
    "print calculatepi(100000)\n",
    "\n",
    "\n",
    "pilistE = []\n",
    "pilistA = []\n",
    "difList = []\n",
    "    \n",
    "for x in range(0, 10):\n",
    "    pilistE.append(calculatepi(1000))\n",
    "    pilistA.append(np.pi)\n",
    "    difList.append(abs(np.pi-pilistE[x]))\n",
    "\n",
    "plt.title('Diference between estimate of pi')\n",
    "xr = range(0,len(pilistA)) \n",
    "plt.plot( xr,difList, 'r')\n",
    "plt.plot(xr, pilistE, 'b')\n",
    "plt.plot(xr, pilistA, 'm')\n",
    "plt.ylabel('Value of pi calculated')\n",
    "plt.xlabel('Length of the list of pi values')\n",
    "plt.show()\n"
   ]
  },
  {
   "cell_type": "code",
   "execution_count": null,
   "metadata": {
    "collapsed": true
   },
   "outputs": [],
   "source": []
  }
 ],
 "metadata": {
  "kernelspec": {
   "display_name": "Python 2",
   "language": "python",
   "name": "python2"
  },
  "language_info": {
   "codemirror_mode": {
    "name": "ipython",
    "version": 2
   },
   "file_extension": ".py",
   "mimetype": "text/x-python",
   "name": "python",
   "nbconvert_exporter": "python",
   "pygments_lexer": "ipython2",
   "version": "2.7.11"
  }
 },
 "nbformat": 4,
 "nbformat_minor": 0
}
