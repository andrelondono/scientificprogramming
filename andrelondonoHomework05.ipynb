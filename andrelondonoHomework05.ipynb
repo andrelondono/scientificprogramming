{
 "cells": [
  {
   "cell_type": "markdown",
   "metadata": {},
   "source": [
    "Andre Londono\n",
    "Dis 102"
   ]
  },
  {
   "cell_type": "markdown",
   "metadata": {
    "collapsed": true
   },
   "source": [
    "# Homework 5: Statistics"
   ]
  },
  {
   "cell_type": "markdown",
   "metadata": {},
   "source": [
    "##### ** Submit this notebook to bourses to receive a credit for this assignment. **\n",
    "\n",
    "Please complete this homework assignment in code cells in the iPython notebook. Include comments in your code when necessary. Enter your name in the cell at the top of the notebook, and rename the notebook [email_name]_HW05.ipynb, where [email_name] is the part of your UCB email address that precedes \"@berkeley.edu\" "
   ]
  },
  {
   "cell_type": "markdown",
   "metadata": {},
   "source": [
    "## Problem 1: Gamma-ray peak\n",
    "\n",
    "[Some of you may recognize this problem from Advanced Lab's Error Analysis Exercise. That's not an accident.]\n",
    "\n",
    "You are given a dataset (peak.dat) from a gamma-ray experiment consisting of ~1000 hits. Each line in the file corresponds to one recorded gamma-ray event, and stores the the measured energy of the gamma-ray. We will assume that the energies are randomly distributed about a common mean, and that each event is uncorrelated to others. Read the dataset from the enclosed file and:\n",
    "1. Produce a histogram of the distribution of energies. Choose the number of bins wisely, i.e. so that the width of each bin is smaller than the width of the peak, and at the same time so that the number of entries in the most populated bin is relatively large. Since this plot represents randomly-collected data, plotting error bars would be appropriate.\n",
    "1. Compute the mean and standard deviation of the distribution of energies and their statistical uncertainties. \n",
    "1. Fit the distribution to a Gaussian function, and compare the parameters of the fitted Gaussian and their uncertainties with the mean and standard deviation computed above\n",
    "1. How consistent is the distribution with a Gaussian? In other words, compare the histogram from (1) to the fitted curve, and compute a goodness-of-fit value, such as $\\chi^2$/d.f.\n"
   ]
  },
  {
   "cell_type": "code",
   "execution_count": 181,
   "metadata": {
    "collapsed": false
   },
   "outputs": [
    {
     "name": "stdout",
     "output_type": "stream",
     "text": [
      "Mean =  1.202680265\n",
      "Standard Deviation =  0.103785124606\n",
      "Statistical Uncertainty =   9.43398113206 \n",
      "\n",
      "Gaussian a =77.304+/-2.498\n",
      "Gaussian mu= 1.191+/-0.004\n",
      "Sigma = 0.103+/-0.004 \n",
      "\n",
      "Mean =  1.202680265\n",
      "Sigma  =  0.103785124606\n",
      "Chi Square = 129869.159769\n",
      "Since Chi Square is large that means the integral of the chi square will result in a nearly 0 P value.\n",
      "So there is greater confidence that the observed deviation from the null hypothesis is significant.\n"
     ]
    },
    {
     "data": {
      "image/png": "[encoded data removed]",
      "text/plain": [
       "<matplotlib.figure.Figure at 0x113859750>"
      ]
     },
     "metadata": {},
     "output_type": "display_data"
    }
   ],
   "source": [
    "import numpy as np\n",
    "import scipy as sp\n",
    "import matplotlib.pyplot as plt\n",
    "from scipy.stats import norm\n",
    "import scipy.optimize as fitter\n",
    "%matplotlib inline\n",
    "\n",
    "#weight = 1/sigma\n",
    "#compute the uncertainty of the mean\n",
    "#for #2 just compute standard deviation\n",
    "\n",
    "#1\n",
    "data = np.loadtxt('peak.dat' , unpack= True)\n",
    "n, bins, patches = plt.hist(data, 20, color = 'm')\n",
    "mid = 0.5*(bins[1:] + bins[:-1])\n",
    "plt.errorbar(mid, n, yerr=9, fmt='none')\n",
    "\n",
    "\n",
    "#2\n",
    "print 'Mean = ',  sp.mean(data)\n",
    "print 'Standard Deviation = ', sp.std(data) \n",
    "x = np.linspace(.8, 1.6, 100)\n",
    "par = norm.fit(data)\n",
    "pdf_fitted = norm.pdf(x,loc=par[0],scale=par[1])\n",
    "pdf = norm.pdf(x)\n",
    "\n",
    "plt.title('Distribution of Gamma ray energies')\n",
    "plt.plot(x,pdf_fitted, 'b', x ,pdf,'b-')\n",
    "plt.ylabel('Gamma ray events')\n",
    "plt.xlabel('Energy Levels')\n",
    "\n",
    "\n",
    "y, bin_edges = np.histogram(data, range=(.8 ,1.6),bins=40)\n",
    "x = [0.5*(bin_edges[1:] + bin_edges[:-1])]\n",
    "x1 = bin_edges[0:len(bin_edges)-1]\n",
    "\n",
    "\n",
    "ey = np.sqrt(y)\n",
    "ey = [max(error,1) for error in ey]\n",
    "print \"Statistical Uncertainty =  \", max(ey) , '\\n'\n",
    "\n",
    "#3\n",
    "def model(x, a, mu, sigma):\n",
    "    return a*np.exp(-((x-mu)**2)/(2*sigma**2))\n",
    "\n",
    "\n",
    "par0 = np.array([600.0, 1.0, .1])\n",
    "par, cov = fitter.curve_fit(model, x1, y, par0)\n",
    "\n",
    "yfit = par[0] * np.exp(-((x1-par[1])**2)/(2*par[2]**2))\n",
    "plt.plot(x1, yfit, 'r')\n",
    "\n",
    "\n",
    "a = par[0]\n",
    "ea = np.sqrt(cov[0,0])\n",
    "print 'Gaussian a ={0:6.3f}+/-{1:5.3f}'.format(a,ea)\n",
    "b = par[1]\n",
    "eb = np.sqrt(cov[1,1])\n",
    "print 'Gaussian mu={0:6.3f}+/-{1:5.3f}'.format(b,eb)\n",
    "c = par[2]\n",
    "ec = np.sqrt(cov[2,2])\n",
    "print 'Sigma ={0:6.3f}+/-{1:5.3f}'.format(c,ec) , '\\n'\n",
    "\n",
    "N = len(data)\n",
    "mean = sp.mean(data)\n",
    "print 'Mean = ',  mean\n",
    "sigma = sp.sqrt(np.sum((data-mean)**2)/len(data)) \n",
    "print 'Sigma  = ', sigma\n",
    "\n",
    "\n",
    "\n",
    "#4\n",
    "eMean = sigma/np.sqrt(N)\n",
    "eSigma=np.sqrt((np.sum((data-mean)**4)/N-(N-3)/(N-1)*sigma**4)/N)\n",
    "\n",
    "chi_squared = np.sum(((model(x1, *par)-y)/sigma)**2)\n",
    "print 'Chi Square =', chi_squared\n",
    "print 'Since Chi Square is large that means the integral of the chi square will result in a nearly 0 P value.'\n",
    "print 'So there is greater confidence that the observed deviation from the null hypothesis is significant.'\n",
    "#print 'Max-likelihood estimate of mean={0:4.2f}+/-{1:4.2f}'.format(mean,eMean)\n",
    "#print 'Max-likelihood estimate of sigma={0:4.2f}+/-{1:4.2f}'.format(sigma,eSigma)\n",
    "\n",
    "\n",
    "\n",
    "plt.show()"
   ]
  },
  {
   "cell_type": "markdown",
   "metadata": {},
   "source": [
    "## Problem 2: Optical Pumping experiment\n",
    "\n",
    "One of the experiments in the 111B (111-ADV) lab is the study of the optical pumping of atomic rubidium. In that experiment, we measure the resonant frequency of a Zeeman transition as a function of the applied current (local magnetic field). Consider a mock data set:\n",
    "<table border=\"1\" align=\"center\">\n",
    "\n",
    "<tr>\n",
    "<td>Current <i>I</i> (Amps)\n",
    "</td><td>0.0 </td><td> 0.2 </td><td> 0.4 </td><td> 0.6 </td><td> 0.8 </td><td> 1.0 </td><td> 1.2 </td><td> 1.4 </td><td> 1.6 </td><td> 1.8 </td><td> 2.0 </td><td> 2.2\n",
    "</td></tr>\n",
    "<tr>\n",
    "<td>Frequency <i>f</i> (MHz)\n",
    "</td><td> 0.14 </td><td> 0.60 </td><td> 1.21 </td><td> 1.94 </td><td> 2.47 </td><td> 3.07 </td><td> 3.83 </td><td> 4.16 </td><td> 4.68 </td><td> 5.60 </td><td> 6.31 </td><td> 6.78\n",
    "</td></tr></table>\n",
    "\n",
    "1. Plot a graph of the pairs of values. Assuming a linear relationship between $I$ and $f$, determine the slope and the intercept of the best-fit line using the least-squares method with equal weights, and draw the best-fit line through the data points in the graph.\n",
    "1. From what s/he knows about the equipment used to measure the resonant frequency, your lab partner hastily estimates the uncertainty in the measurement of $f$ to be $\\sigma(f) = 0.01$ MHz. Estimate the probability that the straight line you found is an adequate description of the observed data if it is distributed with the uncertainty guessed by your lab partner. (Hint: use scipy.stats.chi2 class to compute the quantile of the chi2 distribution).  What can you conclude from these results? \n",
    "1. Repeat the analysis assuming your partner estimated the uncertainty to be $\\sigma(f) = 1$ MHz. What can you conclude from these results?\n",
    "1. Assume that the best-fit line found in Part 1 is a good fit to the data. Estimate the uncertainty in measurement of $y$ from the scatter of the observed data about this line. Again, assume that all the data points have equal weight. Use this to estimate the uncertainty in both the slope and the intercept of the best-fit line. This is the technique you will use in the Optical Pumping lab to determine the uncertainties in the fit parameters.\n",
    "1. Now assume that the uncertainty in each value of $f$ grows with $f$: $\\sigma(f) = 0.03 + 0.03 * f$ (MHz). Determine the slope and the intercept of the best-fit line using the least-squares method with unequal weights (weighted least-squares fit)\n"
   ]
  },
  {
   "cell_type": "code",
   "execution_count": 9,
   "metadata": {
    "collapsed": false
   },
   "outputs": [
    {
     "name": "stdout",
     "output_type": "stream",
     "text": [
      "Slope of fit =  2.64704815078\n",
      "Intercept of fit =  0.708001053435 \n",
      "\n",
      "Chi Square with sigma(.01) =  84016.4391507\n",
      "Since Chi square is very large then the p value will be less than .05 so we can accept this null hypothesis\n",
      "Chi Square with sigma(1) =  8.40164391507\n",
      "Since Chi square is smaller then the p value will be larger than .05 so we cannot accept this null hypothesis \n",
      "\n",
      "Uncertainty in line =  0.637410683591\n",
      "Uncertainty in slope = 2.64704815576\n",
      "Uncertainty in Y intercept 0.708001044563 \n",
      "\n",
      "Slope for unequal weighted fit 2.93410643624\n",
      "Y in for unequal weighted fit 0.178953992649\n"
     ]
    },
    {
     "data": {
      "image/png": "[encoded data removed]",
      "text/plain": [
       "<matplotlib.figure.Figure at 0x112960610>"
      ]
     },
     "metadata": {},
     "output_type": "display_data"
    }
   ],
   "source": [
    "import numpy as np\n",
    "import scipy as sp\n",
    "from scipy import stats\n",
    "import matplotlib.pyplot as plt\n",
    "from scipy.stats import norm\n",
    "import scipy.optimize as fitter\n",
    "%matplotlib inline\n",
    "\n",
    "#1\n",
    "\n",
    "I = np.array([0.0, 0.2, 0.4, 0.6,0.8,1.0,.2,1.4,1.6,1.8,2.0,2.2])\n",
    "f = np.array([0.14,0.60,1.21,1.94,2.47,3.07,3.83,4.16,4.68,5.60,6.31,6.78 ])\n",
    "\n",
    "def model(x, a, b):\n",
    "    return a + b*x\n",
    "\n",
    "\n",
    "par0 = np.array([0.0, 1.0])\n",
    "par, cov = fitter.curve_fit(model, I, f, p0 = par0, )\n",
    "\n",
    "\n",
    "xfit = np.linspace(0,3,50)\n",
    "plt.plot(xfit,model(xfit,par[0],par[1]),'r-')\n",
    "\n",
    "\n",
    "print 'Slope of fit = ' , par[1]\n",
    "print 'Intercept of fit = ' , par[0] , '\\n'\n",
    "\n",
    "def determiney(x):\n",
    "    y = par[1]*(x) + par[0]\n",
    "    return y\n",
    "\n",
    "\n",
    "#2\n",
    "sigma = np.array([.01, .01,.01,.01,.01,.01,.01,.01,.01,.01,.01,.01])\n",
    "plt.errorbar(I, f, xerr = 0, yerr = sigma,fmt = 'o')\n",
    "\n",
    "chisquare = np.sum(((model(I, *par)-f)/sigma)**2)\n",
    "print 'Chi Square with sigma(.01) = ', chisquare\n",
    "print 'Since Chi square is very large then the p value will be less than .05 so we can accept this null hypothesis'\n",
    "\n",
    "#3\n",
    "sigma1 = np.array([1,1,1,1,1,1,1,1,1,1,1,1])\n",
    "chisquare1 = np.sum(((model(I, *par)-f)/sigma1)**2)\n",
    "print 'Chi Square with sigma(1) = ', chisquare1\n",
    "print 'Since Chi square is smaller then the p value will be larger than .05 so we cannot accept this null hypothesis', '\\n'\n",
    "#4\n",
    "# first calculate uncertainty of the data\n",
    "#add uncertainty to all the data data y upp y down\n",
    "#difference in the slopes\n",
    "downrange = []\n",
    "upslope = []\n",
    "downslope = []\n",
    "for i in range(0,12):\n",
    "    downrange.append(f[i]-determiney(I[i]))\n",
    "\n",
    "uncertainty = abs(downrange[1])\n",
    "print 'Uncertainty in line = ', uncertainty \n",
    "\n",
    "for i in range(0,12):\n",
    "    upslope.append(uncertainty + f[i])\n",
    "    downslope.append(f[i] - uncertainty)\n",
    "\n",
    "\n",
    "par1 = np.array([0.0, 1.0])\n",
    "par2 = np.array([0.0, 1.0])\n",
    "parUp, cov = fitter.curve_fit(model, I, np.array(upslope) , p0 = par1)\n",
    "parDown, cov = fitter.curve_fit(model, I, np.array(downslope) , p0 = par2)\n",
    "\n",
    "UpM = parUp[1]\n",
    "DownM = parDown[1]\n",
    "UpY = parUp[0]\n",
    "DownY = parDown[0]\n",
    "print 'Uncertainty in slope =', (UpM+DownM) / 2.\n",
    "print 'Uncertainty in Y intercept', (UpY + DownY) / 2. , '\\n'\n",
    "\n",
    "#5\n",
    "sigmaf = [] \n",
    "for i in range(0,12):\n",
    "    sigmaf.append(.03 + .03*f[i])\n",
    "\n",
    "parF, cov = fitter.curve_fit(model, I, f, p0=par1, sigma = sigmaf)\n",
    "print 'Slope for unequal weighted fit', parF[1]\n",
    "print 'Y in for unequal weighted fit', parF[0]\n",
    "plt.scatter(I,f)\n",
    "plt.xlabel('Current in amps')\n",
    "plt.ylabel('Frequency in Mhz')\n",
    "plt.title('Optical Pumping Experiment')\n",
    "plt.show()"
   ]
  },
  {
   "cell_type": "code",
   "execution_count": null,
   "metadata": {
    "collapsed": true
   },
   "outputs": [],
   "source": []
  }
 ],
 "metadata": {
  "kernelspec": {
   "display_name": "Python 2",
   "language": "python",
   "name": "python2"
  },
  "language_info": {
   "codemirror_mode": {
    "name": "ipython",
    "version": 2
   },
   "file_extension": ".py",
   "mimetype": "text/x-python",
   "name": "python",
   "nbconvert_exporter": "python",
   "pygments_lexer": "ipython2",
   "version": "2.7.11"
  }
 },
 "nbformat": 4,
 "nbformat_minor": 0
}
