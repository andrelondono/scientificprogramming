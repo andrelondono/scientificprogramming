{
 "cells": [
  {
   "cell_type": "markdown",
   "metadata": {},
   "source": [
    "# Physics 77, Lecture 2 (Week 3): Control Structures"
   ]
  },
  {
   "cell_type": "markdown",
   "metadata": {},
   "source": [
    "Topic coverage:\n",
    "* Review of last two weeks\n",
    "* Conditionals and If/Elif/Else statements\n",
    "* Local/Global variables\n",
    "* For and While Loops\n",
    "* List comprehensions (if not covered in Lecture 1)\n",
    "    - also list comprehensions with conditional filters?\n",
    "* Functions"
   ]
  },
  {
   "cell_type": "markdown",
   "metadata": {
    "collapsed": true
   },
   "source": [
    "Many algorithms require execution of a different set of instructions depending on some conditions, repetitive (iterative) execution, etc. These are done by special control statements."
   ]
  },
  {
   "cell_type": "markdown",
   "metadata": {},
   "source": [
    "### Conditionals"
   ]
  },
  {
   "cell_type": "markdown",
   "metadata": {},
   "source": [
    "Implement conditions. Beware ! Indentation is important in Python (awful feature of the language if you ask me)"
   ]
  },
  {
   "cell_type": "code",
   "execution_count": 2,
   "metadata": {
    "collapsed": false
   },
   "outputs": [
    {
     "name": "stdout",
     "output_type": "stream",
     "text": [
      "Enter numerical value: -9\n",
      "This was a negative value\n",
      "9\n"
     ]
    }
   ],
   "source": [
    "x = input('Enter numerical value: ')\n",
    "if x < 0 :\n",
    "    x = -x   # only executed for negative numbers\n",
    "    print 'This was a negative value'\n",
    "print x    # always executed"
   ]
  },
  {
   "cell_type": "markdown",
   "metadata": {},
   "source": [
    "Sometimes you may want to do two different things:"
   ]
  },
  {
   "cell_type": "code",
   "execution_count": 4,
   "metadata": {
    "collapsed": false
   },
   "outputs": [
    {
     "name": "stdout",
     "output_type": "stream",
     "text": [
      "Enter numerical value: -10\n",
      "20\n"
     ]
    }
   ],
   "source": [
    "sum = 10\n",
    "x = input('Enter numerical value: ')\n",
    "if x < 0 :\n",
    "    sum = sum - x\n",
    "else :\n",
    "    sum += x\n",
    "print sum"
   ]
  },
  {
   "cell_type": "markdown",
   "metadata": {},
   "source": [
    "And sometimes you may need to have several branches"
   ]
  },
  {
   "cell_type": "code",
   "execution_count": 8,
   "metadata": {
    "collapsed": false
   },
   "outputs": [
    {
     "name": "stdout",
     "output_type": "stream",
     "text": [
      "Enter numerical value: 8\n",
      "6\n"
     ]
    }
   ],
   "source": [
    "value = 0\n",
    "x = input('Enter numerical value: ')\n",
    "if x > 10 :\n",
    "    value = -1\n",
    "elif x < -1:\n",
    "    value = 0\n",
    "elif x > 7:\n",
    "    value = 6\n",
    "else:\n",
    "    value = 1\n",
    "    \n",
    "print value"
   ]
  },
  {
   "cell_type": "markdown",
   "metadata": {},
   "source": [
    "### Loops"
   ]
  },
  {
   "cell_type": "markdown",
   "metadata": {},
   "source": [
    "While loops: repeat execution while condition is valid"
   ]
  },
  {
   "cell_type": "code",
   "execution_count": 10,
   "metadata": {
    "collapsed": false
   },
   "outputs": [
    {
     "name": "stdout",
     "output_type": "stream",
     "text": [
      "10\n",
      "20\n",
      "30\n",
      "40\n",
      "50\n",
      "60\n",
      "70\n",
      "80\n",
      "90\n",
      "100\n",
      "100 10\n"
     ]
    }
   ],
   "source": [
    "sum = 0\n",
    "count = 0\n",
    "while sum < 100:\n",
    "    sum += 10\n",
    "    count += 1\n",
    "    print sum\n",
    "    \n",
    "print sum, count"
   ]
  },
  {
   "cell_type": "markdown",
   "metadata": {},
   "source": [
    "Special keywords: break, continue, pass, else"
   ]
  },
  {
   "cell_type": "code",
   "execution_count": 1,
   "metadata": {
    "collapsed": false
   },
   "outputs": [
    {
     "name": "stdout",
     "output_type": "stream",
     "text": [
      "60 6\n"
     ]
    }
   ],
   "source": [
    "sum = 0\n",
    "count = 0\n",
    "while sum < 100:\n",
    "    sum += 10\n",
    "    count += 1\n",
    "    if sum >= 60:\n",
    "        break\n",
    "    \n",
    "print sum, count"
   ]
  },
  {
   "cell_type": "code",
   "execution_count": 11,
   "metadata": {
    "collapsed": false
   },
   "outputs": [
    {
     "name": "stdout",
     "output_type": "stream",
     "text": [
      "10\n",
      "20\n",
      "30\n",
      "40\n",
      "100 10\n"
     ]
    }
   ],
   "source": [
    "sum = 0\n",
    "count = 0\n",
    "while sum < 100:\n",
    "    sum += 10\n",
    "    count += 1\n",
    "    if sum > 40 :\n",
    "        continue\n",
    "    print sum\n",
    "    \n",
    "print sum, count"
   ]
  },
  {
   "cell_type": "code",
   "execution_count": 16,
   "metadata": {
    "collapsed": false
   },
   "outputs": [
    {
     "name": "stdout",
     "output_type": "stream",
     "text": [
      "60 6\n"
     ]
    }
   ],
   "source": [
    "sum = 0\n",
    "count = 0\n",
    "while sum < 100:\n",
    "    sum += 10\n",
    "    count += 1\n",
    "    if sum >= 60:\n",
    "        break\n",
    "else:                                     # beware of indentation !!!\n",
    "        print \"Finished without break\"\n",
    "    \n",
    "    \n",
    "print sum, count"
   ]
  },
  {
   "cell_type": "markdown",
   "metadata": {},
   "source": [
    "for loop is more conventional. This is similar to for() loop in C or other languages"
   ]
  },
  {
   "cell_type": "markdown",
   "metadata": {},
   "source": [
    "An equivalent syntax in C would be for (i=0;i<10;i++) {}"
   ]
  },
  {
   "cell_type": "code",
   "execution_count": 26,
   "metadata": {
    "collapsed": false
   },
   "outputs": [
    {
     "name": "stdout",
     "output_type": "stream",
     "text": [
      "[0, 1, 2, 3, 4, 5, 6, 7, 8, 9]\n"
     ]
    }
   ],
   "source": [
    "list = range(0,10)\n",
    "print list"
   ]
  },
  {
   "cell_type": "code",
   "execution_count": 27,
   "metadata": {
    "collapsed": false
   },
   "outputs": [
    {
     "name": "stdout",
     "output_type": "stream",
     "text": [
      "0\n",
      "1\n",
      "2\n",
      "3\n",
      "4\n",
      "5\n",
      "6\n",
      "7\n",
      "8\n",
      "9\n"
     ]
    }
   ],
   "source": [
    "for i in list:    # loop from 0 to 10, not including 10, with step = 1\n",
    "    print i"
   ]
  },
  {
   "cell_type": "code",
   "execution_count": 21,
   "metadata": {
    "collapsed": false
   },
   "outputs": [
    {
     "name": "stdout",
     "output_type": "stream",
     "text": [
      "0\n",
      "2\n",
      "4\n",
      "6\n",
      "8\n"
     ]
    }
   ],
   "source": [
    "for i in range(0,10,2):   # loop from 0 to 10, not including 10, with step = 2\n",
    "    print i"
   ]
  },
  {
   "cell_type": "code",
   "execution_count": 32,
   "metadata": {
    "collapsed": false
   },
   "outputs": [
    {
     "name": "stdout",
     "output_type": "stream",
     "text": [
      "1\n",
      "4\n",
      "9\n",
      "16\n",
      "49\n",
      "12321.0\n"
     ]
    }
   ],
   "source": [
    "list = (1,2,3,4,7,111.)   # iterate over elements of the tuple && not allowed to append to a tuple\n",
    "# list.append(12)          # what happens here ? \n",
    "for x in list:\n",
    "    print x**2"
   ]
  },
  {
   "cell_type": "code",
   "execution_count": 33,
   "metadata": {
    "collapsed": false
   },
   "outputs": [
    {
     "name": "stdout",
     "output_type": "stream",
     "text": [
      "['Billy', 'Johnny', 'Sally']\n",
      "Billy Jones\n",
      "Johnny Baker\n",
      "Sally Smith\n"
     ]
    }
   ],
   "source": [
    "lastnames = {}                        # create a dictionary\n",
    "lastnames['Sally'] = 'Smith'\n",
    "lastnames['Johnny'] = 'Baker'\n",
    "lastnames['Billy'] = 'Jones'\n",
    "list = lastnames.keys()\n",
    "list.sort()\n",
    "print list\n",
    "for key in list:          # iterate over elements of the dictionary\n",
    "    print key, lastnames[key]\n"
   ]
  },
  {
   "cell_type": "markdown",
   "metadata": {},
   "source": [
    "### Functions"
   ]
  },
  {
   "cell_type": "markdown",
   "metadata": {},
   "source": [
    "A function is a self-contained named piece of code that can be used by other parts of the code. Functions usually take arguments (parameters, variables), and return a value. Trig functions are a standard example. Most languages allow you to define your own functions. Functions can be group into a library, usually according to functionality they provide (e.g. math, complex numbers, linear algebra, plotting, etc). "
   ]
  },
  {
   "cell_type": "code",
   "execution_count": 34,
   "metadata": {
    "collapsed": false
   },
   "outputs": [
    {
     "name": "stdout",
     "output_type": "stream",
     "text": [
      "factorial(10)= 3628800\n",
      "factorial(1)=01\n",
      "factorial(2)=02\n",
      "factorial(3)=06\n",
      "factorial(4)=24\n"
     ]
    }
   ],
   "source": [
    "def factorial(n):                # definition of the function\n",
    "    value = 1\n",
    "    for i in range(2,n+1):       # loop\n",
    "        value *= i               # increment factorial \n",
    "        \n",
    "    return value                 # return value\n",
    "\n",
    "print 'factorial(10)=',factorial(10)\n",
    "for i in range(1,5):\n",
    "    print 'factorial(%d)=%02d' % (i,factorial(i))\n"
   ]
  },
  {
   "cell_type": "markdown",
   "metadata": {},
   "source": [
    "Here is a more elegant way to implement the function (recursive). It also has basic error handling"
   ]
  },
  {
   "cell_type": "code",
   "execution_count": 36,
   "metadata": {
    "collapsed": false
   },
   "outputs": [
    {
     "name": "stdout",
     "output_type": "stream",
     "text": [
      "3628800\n",
      "-inf\n",
      "nan\n"
     ]
    }
   ],
   "source": [
    "import numpy as np\n",
    "def factRecursive(n):\n",
    "    ' ' 'computes n! input integer output integer ' ' '\n",
    "    if type(n)!=int:                     # factorials defined only for integers\n",
    "        return np.nan                    # return Not-a-number\n",
    "    if n > 1:\n",
    "        return n*factRecursive(n-1)\n",
    "    elif n >= 0:\n",
    "        return 1\n",
    "    else:\n",
    "        return -np.inf                  # return negative infinity\n",
    "    \n",
    "print factRecursive(10)\n",
    "print factRecursive(-1)\n",
    "print factRecursive(1.1)\n",
    "        "
   ]
  },
  {
   "cell_type": "markdown",
   "metadata": {},
   "source": [
    "### Local vs Global variables"
   ]
  },
  {
   "cell_type": "markdown",
   "metadata": {},
   "source": [
    "Typically, variables inside the scope of a function (or class member) are only visible inside that function. If you happen to use the same variable outside and inside a function (global vs local scope), a new variable is usually created inside the function, which will \"shadow\" (make it inaccessible) the global variable. There are exceptions and special cases for this, and the behavior often depends on the programming language, environment, etc. It is BAD PRACTICE to reuse variable names in different scopes. It is also usually BAD PRACTICE for a function to modify global variables (this causes unexpected side effects). It is a good practice is to declare your intentions (in documentation, and also by declaring variables global). The best practice is not to rely on globals if you can (global variables are an anachronism from the days of Fortran and common blocks, they make things efficient but bug-prone)"
   ]
  },
  {
   "cell_type": "code",
   "execution_count": 2,
   "metadata": {
    "collapsed": false
   },
   "outputs": [
    {
     "name": "stdout",
     "output_type": "stream",
     "text": [
      "x before function: 5\n",
      "5\n",
      "x= 7 y= 10\n",
      "x after function: 7\n"
     ]
    }
   ],
   "source": [
    "x = 5\n",
    "def giveMeY():\n",
    "    global x                    # pull this from global scope\n",
    "    print x\n",
    "    y = 10\n",
    "    x = 7\n",
    "    print 'x=',x,'y=',y\n",
    "    return y\n",
    "\n",
    "print 'x before function:',x\n",
    "giveMeY()\n",
    "print 'x after function:',x\n"
   ]
  },
  {
   "cell_type": "code",
   "execution_count": 41,
   "metadata": {
    "collapsed": false
   },
   "outputs": [
    {
     "name": "stdout",
     "output_type": "stream",
     "text": [
      "x before function: 5\n",
      "x inside function: 7\n",
      "x after function: 5\n"
     ]
    }
   ],
   "source": [
    "x = 5\n",
    "def test():\n",
    "    y = 10\n",
    "    x = 7                   # assignment operator creates a local copy with the same name ! Beware !!!\n",
    "    print 'x inside function:',x\n",
    "    return\n",
    "\n",
    "print 'x before function:',x\n",
    "test()\n",
    "print 'x after function:',x\n"
   ]
  },
  {
   "cell_type": "markdown",
   "metadata": {},
   "source": [
    "Functions can be passed into other functions, stored in lists or tuples. This can produce some neat code"
   ]
  },
  {
   "cell_type": "code",
   "execution_count": 9,
   "metadata": {
    "collapsed": false
   },
   "outputs": [
    {
     "data": {
      "image/png": "[encoded data removed]",
      "text/plain": [
       "<matplotlib.figure.Figure at 0x111e0ed50>"
      ]
     },
     "metadata": {},
     "output_type": "display_data"
    }
   ],
   "source": [
    "def lin(x):\n",
    "    ''' compute polynomial of first degree'''\n",
    "    global p0,p1             # didn't I say this was a bad idea ?, Using global will decrease amount of parameters\n",
    "    return p0+p1*x\n",
    "\n",
    "def sq(x):\n",
    "    global p0, p1, p2        \n",
    "    return p0+p1*x+p2*x*x    # why didn't I write x**2 ? efficiency\n",
    "\n",
    "#define global parameters\n",
    "p0 = 1\n",
    "p1 = 2\n",
    "p2 = 3\n",
    "\n",
    "# import libraries\n",
    "import numpy as np\n",
    "import matplotlib.pyplot as plt\n",
    "%matplotlib inline\n",
    "\n",
    "# produce a plot\n",
    "x = np.linspace(-1,1,100)\n",
    "plt.plot(x,lin(x),'-', color = \"aquamarine\")\n",
    "plt.plot(x,sq(x),'b-.')\n",
    "plt.xlabel('x')\n",
    "plt.ylabel('function')\n",
    "plt.legend(['Linear','Quadratic'],loc=2)\n",
    "plt.show()"
   ]
  },
  {
   "cell_type": "code",
   "execution_count": null,
   "metadata": {
    "collapsed": true
   },
   "outputs": [],
   "source": [
    "#to copy a list \n",
    "import copy\n",
    "def sortedlist(inputlist):\n",
    "    #myList = copy(inputlist)\n",
    "    myList = sorted(inputlist, reverse=True)\n",
    "    #takes the original list makes a copy then sorts it"
   ]
  },
  {
   "cell_type": "code",
   "execution_count": null,
   "metadata": {
    "collapsed": true
   },
   "outputs": [],
   "source": [
    "#list cannot do linear algebra/ np.array\n",
    "#from pylab import * \n",
    "#np.arange(-pi, pi, pi/100) array of values/can do linear algebra on them\n"
   ]
  }
 ],
 "metadata": {
  "kernelspec": {
   "display_name": "Python 2",
   "language": "python",
   "name": "python2"
  },
  "language_info": {
   "codemirror_mode": {
    "name": "ipython",
    "version": 2
   },
   "file_extension": ".py",
   "mimetype": "text/x-python",
   "name": "python",
   "nbconvert_exporter": "python",
   "pygments_lexer": "ipython2",
   "version": "2.7.11"
  }
 },
 "nbformat": 4,
 "nbformat_minor": 0
}
