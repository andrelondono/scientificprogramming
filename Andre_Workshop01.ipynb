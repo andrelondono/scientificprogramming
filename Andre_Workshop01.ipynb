{
 "cells": [
  {
   "cell_type": "markdown",
   "metadata": {},
   "source": [
    "Andre Londono\n",
    "Sec 102"
   ]
  },
  {
   "cell_type": "markdown",
   "metadata": {},
   "source": [
    "# Workshop 1: Canopy, python basics, and a little plotting"
   ]
  },
  {
   "cell_type": "markdown",
   "metadata": {},
   "source": [
    "** Submit this notebook to bCourses to receive a grade for this Workshop.**\n",
    "\n",
    "Please complete workshop activities in code cells in this iPython notebook. Include comments in your code when necessary. Enter your name in the cell at the top of the notebook, and rename the notebook [email_name]_Workshop01.ipynb, where [email_name] is the part of your UCB email address that precedes \"@berkeley.edu\" "
   ]
  },
  {
   "cell_type": "markdown",
   "metadata": {},
   "source": [
    "## Installing Canopy"
   ]
  },
  {
   "cell_type": "markdown",
   "metadata": {},
   "source": [
    "You'll want to have python installed on your computer for this course, so here are some instructions to do that. While the download and installation are running, feel free to continue on with the rest of the workshop. You can run python code in your browser [here (coding ground)](http://www.tutorialspoint.com/ipython_terminal_online.php) or [here (trinket)](https://trinket.io/). Hopefully at least one of those sites works for you!"
   ]
  },
  {
   "cell_type": "markdown",
   "metadata": {},
   "source": [
    "### Getting the download started\n",
    "\n",
    "Go to the Enthought Canopy website to [download the installer](https://store.enthought.com/downloads/#default) here. Check that the operating system and 32/64 bit options at the top are correct before hitting download. The default options are probably good. If you're not sure whether your computer is 32-bit or 64-bit (most modern computers are 64-bit), here are directions to find out for [Windows](https://esupport.trendmicro.com/en-us/home/pages/technical-support/1038680.aspx), [Mac](http://www.chiefarchitect.com/support/article/KB-01230/determining-if-your-computer-is-32-bit-or-64-bit.html), and [Linux](http://www.howtogeek.com/198615/how-to-check-if-your-linux-system-is-32-bit-or-64-bit/).\n",
    "\n"
   ]
  },
  {
   "cell_type": "markdown",
   "metadata": {},
   "source": [
    "### Making an account\n",
    "\n",
    "While that's downloading, request an academic license to access all the features of Canopy. Go to [this page](https://store.enthought.com/#canopy-academic) and click \"Request your license\". Fill in your information to make an account. Once you've installed Canopy, you'll be able to \"Log in\" to access Canopy's suite \"Training on Demand\" tutorials along with various other features within the program."
   ]
  },
  {
   "cell_type": "markdown",
   "metadata": {},
   "source": [
    "### Installation\n",
    "\n",
    "Once the installer finishes downloading, installation should be straightforward. (This is one of the reasons we chose Canopy, after all.) Simply open the downloaded file and follow the default options. Once it's installed, open Canopy and once again follow the default options to set up your python environment. If you'd like more specific install instructions, Canopy has OS-specific guides here:\n",
    "* [Windows Installation](http://docs.enthought.com/canopy/quick-start/install_windows.html)\n",
    "* [Mac OSX Installation](http://docs.enthought.com/canopy/quick-start/install_macos.html)\n",
    "* [Linux Installation](http://docs.enthought.com/canopy/quick-start/install_linux.html)"
   ]
  },
  {
   "cell_type": "markdown",
   "metadata": {},
   "source": [
    "### Updating packages\n",
    "\n",
    "That should be about it! You can make sure everything is up to date by opening the \"Package Manager\" from the main Canopy window. Click \"Updates\" (in the left sidebar) and then \"Install All Updates\" in the bottom right. If there are several updates, it might take a while to finish. Leave that working in the background and check back on it later."
   ]
  },
  {
   "cell_type": "markdown",
   "metadata": {},
   "source": [
    "## The Terminal / Command Line / Shell"
   ]
  },
  {
   "cell_type": "markdown",
   "metadata": {},
   "source": [
    "You will find it useful to know some basics about the command line (aka terminal or shell) on your computer. The command line lets you navigate around your computer and perform tasks without any graphical user interface---just text. You don't need a mouse to use the command line, just your keyboard. With experience, some people find it faster to use command line tools than graphical tools to do certain things on their computer.\n",
    "\n",
    "So let's dive in! If you're on a Mac or Linux, find and open the Terminal. If you're on Windows, go to your start menu and type \"cmd\" (no quotes), then run it.\n",
    "\n",
    "You'll be faced with a prompt where you can type things in. Press `Enter` to execute whatever you've typed. Try typing these commands (in this order if you'd like!) to get a feel for your terminal. Type `ls` or `dir` occasionally as you change things to see how the contents of your folder have changed.\n",
    "\n",
    "See where you are\n",
    "    - On Mac/Linux:  pwd\n",
    "    - On Windows:    cd\n",
    "\n",
    "See what's in the current directory\n",
    "    - On Mac/Linux:  ls\n",
    "    - On Windows:    dir\n",
    "    \n",
    "Change directories (into the `Documents` directory, for instance)\n",
    "    - On Mac/Linux:  cd Documents\n",
    "    - On Windows:    cd Documents\n",
    "    \n",
    "Go back to the \"parent directory\"\n",
    "    - On Mac/Linux:  cd ..\n",
    "    - On Windows:    cd ..\n",
    "    \n",
    "Make a directory (the directory `fooDirectory`, for instance)\n",
    "    - On Mac/Linux:  mkdir fooDirectory\n",
    "    - On Windows:    mkdir fooDirectory\n",
    "\n",
    "Make another directory!\n",
    "    -                mkdir barDirectory\n",
    "    \n",
    "Move something (move `barDirectory` into `fooDirectory` directory, for instance)\n",
    "    - On Mac/Linux:  mv barDirectory fooDirectory\n",
    "    - On Windows:    move barDirectory fooDirectory\n",
    "\n",
    "Check the contents of a different directory\n",
    "    - On Mac/Linux:  ls fooDirectory\n",
    "    - On Windows:    dir fooDirectory\n",
    "    \n",
    "Change through multiple directories at once\n",
    "    - On Mac/Linux:  cd fooDirectory/barDirectory\n",
    "    - On Windows:    cd fooDirectory\\barDirectory\n",
    "        (notice different slash directions!)\n",
    "\n",
    "Go back to your \"home\" directory\n",
    "    - On Mac/Linux:  cd\n",
    "                or:  cd ~\n",
    "    - On Windows:    cd %userprofile%\n",
    "    \n",
    "Rename something (rename `fooDirectory` into `RenamedDir`, for instance)\n",
    "    - On Mac/Linux:  mv fooDirectory RenamedDir\n",
    "    - On Windows:    move fooDirectory RenamedDir\n",
    "\n",
    "Remove an empty directory (the directory `myDirectory`, for instance)\n",
    "    - On Mac/Linux:  rmdir fooDirectory/barDirectory\n",
    "    - On Windows:    rmdir fooDirectory\\barDirectory\n",
    "    \n",
    "Learn more about a command (the `cd` command, for instance)\n",
    "    - On Mac/Linux:  man cd\n",
    "    - On Windows:    cd /?\n",
    "\n",
    "Print the contents of a file to the terminal (`file.txt`, for instance)\n",
    "    - On Mac/Linux:  cat file.txt\n",
    "    - On Windows:    type file.txt"
   ]
  },
  {
   "cell_type": "markdown",
   "metadata": {},
   "source": [
    "## Using the Canopy editor\n",
    "\n",
    "### IPython Interpreter\n",
    "\n",
    "Time to write your first python code! Open the Canopy \"Editor\". You should see a couple buttons to create or open files, and maybe a IPython interpreter at the bottom. (If you don't see anything at the bottom, click \"View\" -> \"Python\" and it should appear.) Type in \"2+2\" (without the quotes ... or with them!) and see what happens! Next, try typing these (you don't have to type any of the \"# comments!\") ...\n",
    "\n",
    "    x = \"Phys\"\n",
    "    y = \"ics!\"\n",
    "    z = x + y     # Put 'em together\n",
    "    z             # See what we got!\n",
    "    y + x         # Backwards!\n",
    "    len(z)        # 8 characters in total ...\n",
    "    len(z)**2     # Computing the area?\n",
    "    z[0]          # Grab the first character\n",
    "    z[1:3]        # Grab the next two characters\n",
    "    z[:4]\n",
    "    z[:4] == x    # Test a match!\n",
    "    z[4:] == y\n",
    "    z[:]          # The whole string\n",
    "    z[::-1]       # The whole string, right to left\n",
    "    z[1::3]       # Start at the second character and take every third character from there\n",
    "    z*3 + 5*z[-1] # Woo!"
   ]
  },
  {
   "cell_type": "markdown",
   "metadata": {},
   "source": [
    "This interpreter is a great place to test things out and mess around. In Canopy, it also comes preloaded with a couple libraries (like numpy and matplotlib) that we will use a lot in this course. Try typing `log(e)`, for instance, and you should get `1.0`. Both the function `log` and the number `e` are from the `numpy` library. Or type `pie([1,2,3])`, since `pie` is defined by matplotlib! This can be convenient, but also confusing since many names and variables are already used in ways you might not expect. When writing scripts you'll have to manually import any library you want to use. This little inconvenience is greatly worth the confusion it can save."
   ]
  },
  {
   "cell_type": "markdown",
   "metadata": {},
   "source": [
    "### Writing your first script\n",
    "\n",
    "Let's write a script now! Type the following code snippet into the code cell below:\n",
    "    \n",
    "    import numpy as np\n",
    "    \n",
    "    'Hello world! Have some pie!', np.pi\n",
    "    'And some pie from a log!', np.log(np.pi)"
   ]
  },
  {
   "cell_type": "code",
   "execution_count": 3,
   "metadata": {
    "collapsed": false
   },
   "outputs": [
    {
     "data": {
      "text/plain": [
       "('And some pie from a log', 1.1447298858494002)"
      ]
     },
     "execution_count": 3,
     "metadata": {},
     "output_type": "execute_result"
    }
   ],
   "source": [
    "import numpy as np\n",
    "\n",
    "'Hello world! Have some pie!', np.pi\n",
    "'And some pie from a log', np.log(np.pi)"
   ]
  },
  {
   "cell_type": "markdown",
   "metadata": {},
   "source": [
    "This should produce ... nothing. Why not? In the interactive shell, when you type a string or a number, like `'Physics!'` or `np.pi`, it will immediately print the result. (try it!) In a script, if you want python to display something for you, you have to tell it. For strings, we use the `print` function. (Later for plots, you'll learn to use matplotlib's `show()` function.) Adjust your code to read:\n",
    "\n",
    "    import numpy as np\n",
    "    \n",
    "    print 'Hello world! Have some pie!', np.pi\n",
    "    print 'And some pie from a log!', np.log(np.pi)\n",
    "\n",
    "This should produce\n",
    "\n",
    "    Hello world! Have some pie! 3.14159265359\n",
    "    And some pie from a log! 1.14472988585"
   ]
  },
  {
   "cell_type": "code",
   "execution_count": 4,
   "metadata": {
    "collapsed": false
   },
   "outputs": [
    {
     "name": "stdout",
     "output_type": "stream",
     "text": [
      "Hello world! Have some pie! 3.14159265359\n",
      "And some pie from a log! 1.14472988585\n"
     ]
    }
   ],
   "source": [
    "import numpy as np\n",
    "\n",
    "print 'Hello world! Have some pie!', np.pi\n",
    "print 'And some pie from a log!', np.log(np.pi)"
   ]
  },
  {
   "cell_type": "markdown",
   "metadata": {},
   "source": [
    "Much better! Using what you learned in lecture, try changing this program to print only 4 decimal places in each number. The result should look like:\n",
    "\n",
    "    Hello world! Have some pie! 3.1416\n",
    "    And some pie from a log! 1.1447"
   ]
  },
  {
   "cell_type": "code",
   "execution_count": 5,
   "metadata": {
    "collapsed": false
   },
   "outputs": [
    {
     "name": "stdout",
     "output_type": "stream",
     "text": [
      "Hello world! Have some pie 3.1416\n",
      "and some pie from a log 1.1447\n"
     ]
    }
   ],
   "source": [
    "import numpy as np\n",
    "\n",
    "print 'Hello world! Have some pie',round(np.pi,4)\n",
    "print 'and some pie from a log', round(np.log(np.pi), 4)\n"
   ]
  },
  {
   "cell_type": "markdown",
   "metadata": {},
   "source": [
    "## Debugging Practice\n",
    "\n",
    "[Adapted from Langtangen, Exercise 1.16] Working with a partner, type these statements into your python interpreter. Figure out why some statements fail and correct the errors.\n",
    "\n",
    "*Hint: Try testing the left- and right-hand sides seperately before you put them together in statements. It's ok if you don't understand yet why some of the expressions evaluate to the results they do (like the last one).*\n",
    "\n",
    "    1a = 2\n",
    "    a1 = b\n",
    "    x = 2\n",
    "    y = X + 4    # is it 6?\n",
    "    5 = 5    # is it True?\n",
    "    4/5 == 4.0/5.0   # is it True?\n",
    "    10/2 == 10/2.   # is it True?\n",
    "    type(10/2) == type(10/2.)   # is it True?"
   ]
  },
  {
   "cell_type": "code",
   "execution_count": 29,
   "metadata": {
    "collapsed": false
   },
   "outputs": [
    {
     "data": {
      "text/plain": [
       "False"
      ]
     },
     "execution_count": 29,
     "metadata": {},
     "output_type": "execute_result"
    }
   ],
   "source": [
    "#1a = 2 invalid syntax\n",
    "a=2 \n",
    "#a1 = b\n",
    "a1 = 'b'\n",
    "x = 2\n",
    "#y = X + 4    # is it 6?\n",
    "y = x+4\n",
    "#5 = 5    # is it True? cant assing literal to literal\n",
    "5==5\n",
    "#4/5 == 4.0/5.0   # is it True? No, false\n",
    "4/5 == int(4.0/5.0) \n",
    "#10/2 == 10/2.   # is it True? No false\n",
    "10/2 == int(10/2.)\n",
    "type(10/2) == type(10/2.)   # is it True?No false\n"
   ]
  },
  {
   "cell_type": "markdown",
   "metadata": {},
   "source": [
    "    from Math import factorial\n",
    "    print factorial(pi)\n",
    "    pi = \"3.14159'\n",
    "    c = 4**3**2**3\n",
    "    _ = ((c-78564)/c + 32))\n",
    "    discount = 12%\n",
    "    AMOUNT = 120.-\n",
    "    amount = 120$"
   ]
  },
  {
   "cell_type": "code",
   "execution_count": 43,
   "metadata": {
    "collapsed": false
   },
   "outputs": [
    {
     "ename": "ImportError",
     "evalue": "No module named Math",
     "output_type": "error",
     "traceback": [
      "\u001b[0;31m---------------------------------------------------------------------------\u001b[0m",
      "\u001b[0;31mImportError\u001b[0m                               Traceback (most recent call last)",
      "\u001b[0;32m<ipython-input-43-30c08d6b3dee>\u001b[0m in \u001b[0;36m<module>\u001b[0;34m()\u001b[0m\n\u001b[0;32m----> 1\u001b[0;31m \u001b[0;32mfrom\u001b[0m \u001b[0mMath\u001b[0m \u001b[0;32mimport\u001b[0m \u001b[0mfactorial\u001b[0m\u001b[0;34m\u001b[0m\u001b[0m\n\u001b[0m\u001b[1;32m      2\u001b[0m \u001b[0;32mprint\u001b[0m \u001b[0mfactorial\u001b[0m\u001b[0;34m(\u001b[0m\u001b[0mpi\u001b[0m\u001b[0;34m)\u001b[0m\u001b[0;34m\u001b[0m\u001b[0m\n\u001b[1;32m      3\u001b[0m \u001b[0mpi\u001b[0m \u001b[0;34m=\u001b[0m \u001b[0;34m'3.14159'\u001b[0m\u001b[0;34m\u001b[0m\u001b[0m\n\u001b[1;32m      4\u001b[0m \u001b[0mc\u001b[0m \u001b[0;34m=\u001b[0m \u001b[0;36m4\u001b[0m\u001b[0;34m**\u001b[0m\u001b[0;36m3\u001b[0m\u001b[0;34m**\u001b[0m\u001b[0;36m2\u001b[0m\u001b[0;34m**\u001b[0m\u001b[0;36m3\u001b[0m\u001b[0;34m\u001b[0m\u001b[0m\n\u001b[1;32m      5\u001b[0m \u001b[0m_\u001b[0m \u001b[0;34m=\u001b[0m \u001b[0;34m(\u001b[0m\u001b[0;34m(\u001b[0m\u001b[0mc\u001b[0m\u001b[0;34m-\u001b[0m\u001b[0;36m78564\u001b[0m\u001b[0;34m)\u001b[0m\u001b[0;34m/\u001b[0m\u001b[0;34m(\u001b[0m\u001b[0mc\u001b[0m \u001b[0;34m+\u001b[0m \u001b[0;36m32\u001b[0m\u001b[0;34m)\u001b[0m\u001b[0;34m)\u001b[0m\u001b[0;34m\u001b[0m\u001b[0m\n",
      "\u001b[0;31mImportError\u001b[0m: No module named Math"
     ]
    }
   ],
   "source": [
    "from Math import factorial\n",
    "print factorial(pi)\n",
    "pi = '3.14159'\n",
    "c = 4**3**2**3\n",
    "_ = ((c-78564)/(c + 32))\n",
    "discount = .12\n",
    "AMOUNT = \"20\"\n",
    "amount = 120"
   ]
  },
  {
   "cell_type": "markdown",
   "metadata": {},
   "source": [
    "    address = hpl@simula.no\n",
    "    and = duck\n",
    "    class = 'INF1100, gr 2'\n",
    "    continue_ = x > 0\n",
    "    Erdoğan = \"\"\"Erdoğan\"\"\"\n",
    "    rev = fox = True\n",
    "    Norwegian = ['a human language']\n",
    "    true = fox is rev in Norwegian"
   ]
  },
  {
   "cell_type": "code",
   "execution_count": 28,
   "metadata": {
    "collapsed": false
   },
   "outputs": [
    {
     "ename": "SyntaxError",
     "evalue": "invalid syntax (<ipython-input-28-a3d65456b644>, line 2)",
     "output_type": "error",
     "traceback": [
      "\u001b[0;36m  File \u001b[0;32m\"<ipython-input-28-a3d65456b644>\"\u001b[0;36m, line \u001b[0;32m2\u001b[0m\n\u001b[0;31m    and = duck\u001b[0m\n\u001b[0m      ^\u001b[0m\n\u001b[0;31mSyntaxError\u001b[0m\u001b[0;31m:\u001b[0m invalid syntax\n"
     ]
    }
   ],
   "source": [
    "address = \"hpl@simula.no\"\n",
    "and = \"duck\"\n",
    "class = 'INF1100, gr 2'\n",
    "continue_ = x > 0\n",
    "Erdoğan = \"\"\"Erdoğan\"\"\"\n",
    "rev = fox = True\n",
    "Norwegian = ['a human language']\n",
    "true = fox is rev in Norwegian"
   ]
  },
  {
   "cell_type": "markdown",
   "metadata": {},
   "source": [
    "## Four Fours\n",
    "\n",
    "[Inspired by Harvey Mudd College's CS5 course] Here's an arithmetic game to try your hand at. Your task is to compute each of the numbers, from 1 through 11, using exactly four 4's and simple math operations. You're allowed to use `+` (addition), `-` (subtraction), `*` (multiplication), `/` (division), `sqrt()` (square root), `factorial()` (factorial), and `%` (modulus). You're also allowed to use `.4` (that's one 4) or `44` (that's two 4's) if you'd like. Just remember, you must use exactly four 4 digits total!\n",
    "\n",
    "As a reminder, four factorial (denoted by $!$ in mathematics) is $4! = 4 \\cdot 3 \\cdot 2 \\cdot 1$, and the modulus operator (usually denoted by $\\text{mod}$ in mathematics) is the remainder after division. For instance, $\\ 5\\ \\text{mod}\\ 2 = 1$, $\\ 13\\ \\text{mod}\\ 7 = 6$, and $\\ 14\\ \\text{mod}\\ 7 = 0$.\n",
    "\n",
    "Copy and paste the following code to start:\n",
    "\n",
    "    from math import factorial, sqrt\n",
    "    \n",
    "    print 'Zero:', 4 - 4 + 4 - 4\n",
    "    print 'One:'\n",
    "    print 'Two:'\n",
    "    print 'Three:'\n",
    "    print 'Four:'\n",
    "    print 'Five:'\n",
    "    print 'Six:'\n",
    "    print 'Seven:'\n",
    "    print 'Eight:'\n",
    "    print 'Nine:'\n",
    "    print 'Ten:'\n",
    "    print 'Eleven:'\n",
    "\n",
    "We've given you `zero` for free, as `4 - 4 + 4 - 4`. Of course, we could have also done `44 * (.4 - .4)` or `factorial(4) - 4 * (4 + sqrt(4))`, since both of those also yield `0` (or rather, `0.0`. Why is that?) and use exactly four 4's."
   ]
  },
  {
   "cell_type": "code",
   "execution_count": 20,
   "metadata": {
    "collapsed": false
   },
   "outputs": [
    {
     "name": "stdout",
     "output_type": "stream",
     "text": [
      "Zero: 0\n",
      "One: 1\n",
      "Two: 2\n",
      "Three: 3.0\n",
      "Four: 4\n",
      "Five: 5\n",
      "Six: 6\n",
      "Seven: 7\n",
      "Eight: 8\n",
      "Nine: 9\n",
      "Ten: 10.0\n",
      "Eleven: 11.0\n"
     ]
    }
   ],
   "source": [
    "from math import factorial, sqrt\n",
    "\n",
    "print 'Zero:', 4 - 4 + 4 - 4\n",
    "print 'One:', (4*4)/(4*4)\n",
    "print 'Two:', (4*4)/(4+4)\n",
    "print 'Three:', sqrt(4*4)-(4/4) #this returns 3.0 because of the return type of the sqrt function\n",
    "print 'Four:',4% ( 4*4*4)\n",
    "print 'Five:', (4*4+4) / 4\n",
    "print 'Six:' , ((4+4)/4) + 4\n",
    "print 'Seven:',(4 + 4 - 4/4)\n",
    "print 'Eight:', 4%(4*4)+4\n",
    "print 'Nine:', (4+4/4) + 4\n",
    "print 'Ten:', (4*4)-sqrt(4)-4 #same reason as #3\n",
    "print 'Eleven:', 44 / (sqrt(4)*sqrt(4)) # sqrt 4"
   ]
  },
  {
   "cell_type": "markdown",
   "metadata": {},
   "source": [
    "Your final source code will be full of four fours formulas, but your final output should look like this:\n",
    "\n",
    "    Zero: 0\n",
    "    One: 1\n",
    "    Two: 2\n",
    "    Three: 3\n",
    "    Four: 4\n",
    "    Five: 5\n",
    "    Six: 6\n",
    "    Seven: 7\n",
    "    Eight: 8\n",
    "    Nine: 9\n",
    "    Ten: 10\n",
    "    Eleven: 11\n",
    "\n",
    "It's ok if some of these have a trailing `.0` (`0.0`, for instance), but make sure you understand why they do!"
   ]
  },
  {
   "cell_type": "markdown",
   "metadata": {},
   "source": [
    "## Canopy Tutorials and Exercises\n",
    "\n",
    "Let's take a look at the Canopy tutorials and exercises, which are excellent resources for you as you learn and practice python in this course and beyond. In the main Canopy window, click \"Training on Demand\". Log in to Canopy using the button in the upper-right of the page, if you aren't logged in already. The page you should then see is a gateway into all of Canopy's training materials, which are freely accessible to you as an academic.\n",
    "\n",
    "Click on \"Python Essentials\". Here you see video lectures for many topics, some which you've already learned, some which we'll get to later, and some that we won't have time to cover in this course. Check these out sometime if you'd ever like a reminder or a fresh perspective on the material.\n",
    "\n",
    "For now, click on the \"Exercises\" tab above the video thumbnails, and click on \"star data\". It should open an IPython notebook for you in Canopy automatically, but if it doesn't, you can click \"(download zip)\" to download the files and then open them in canopy yourself.\n",
    "\n",
    "Do the \"star data\" exercise for some practice extracting data from files. "
   ]
  },
  {
   "cell_type": "markdown",
   "metadata": {},
   "source": [
    "## Plotting Practice: Envelope and Oscillation"
   ]
  },
  {
   "cell_type": "markdown",
   "metadata": {},
   "source": [
    "[Adapted from Ayars, Problem 0-0] Paste the following code into a code cell to start:\n",
    "\n",
    "    import numpy as np\n",
    "    import matplotlib.pyplot as plt\n",
    "    \n",
    "    plt.figure()    # This makes sure you start with a clean figure each time your code is run\n",
    "    \n",
    "    ### Your code here!\n",
    "    \n",
    "    plt.show()      # This tells python to display the plot you've made\n",
    "    \n",
    "Finish the program to graph both of the following functions on a single figure, with a usefully-sized scale.\n",
    "\n",
    "1. $ x^4 e^{-2x} $\n",
    "1. $ \\left[ x^2 e^{-x} \\sin(x^2) \\right]^2 $\n",
    "\n",
    "It may help to refer to the lecture notes or Ayars Chapter 0. Use numpy's `linspace` to make an array for the $x$ values, and use numpy's `exp` and `sin` functions to make arrays for the $y$ values of the two expressions. Make sure the $x$ values are spaced close enough together to make the curves smooth! You can label the axes as simply $x$ and $y$, and add whatever title you'd like. Add some appropriate legend. For instance, `plt.legend(['envelope', 'oscillation'])` would be fine for this workshop."
   ]
  },
  {
   "cell_type": "code",
   "execution_count": 78,
   "metadata": {
    "collapsed": false
   },
   "outputs": [],
   "source": [
    "import numpy as np\n",
    "import math\n",
    "import matplotlib.pyplot as plt\n",
    "\n",
    "plt.figure()    # This makes sure you start with a clean figure each time your code is run\n",
    "#plt.plot([1,2,3], [3,5,6])\n",
    "x = np.linspace(0,10.0, 100)\n",
    "y = x**4*np.exp(-2)\n",
    "y= ((x**2)* np.exp(-1) * np.sin(x**2))**2\n",
    "plt.plot(x,y, 'm-^')\n",
    "\n",
    "\n",
    "### Your code here!\n",
    "def graph(eq , x_range):\n",
    "    x = np.array(x_range)\n",
    "    y=eval(eq)  #eval function lets a python program run python code within itself.\n",
    "    plt.plot(x,y, label = \"graph\")\n",
    "\n",
    "\n",
    "#graph(\"(x**4*e**(-2x)\"), range(0, 10))\n",
    "#graph(\"(x**2*e**(-x)*np.sin(x**2))**2)\", range(0,10))\n",
    "\n",
    "plt.legend(['envelope', 'oscillation'])\n",
    "plt.show()      # This tells python to display the plot you've made\n"
   ]
  },
  {
   "cell_type": "markdown",
   "metadata": {},
   "source": [
    "#### Hint\n",
    "In the editor, type something like `np.linspace(` or `np.linspace()` and then hit the TAB key. The editor should pop up with documentation for that function, to remind you of what it does and how to use it. This works for all sorts of functions if you ever forget how to use them! Google is also your friend for all manner of questions about python, matplotlib, numpy, ..."
   ]
  },
  {
   "cell_type": "markdown",
   "metadata": {},
   "source": [
    "#### Just for fun\n",
    "For a pretty mathematical legend, you can add this line instead:\n",
    "\n",
    "    plt.legend([r'$x^4 e^{-2x}$', r'$[x^2 e^{-x} \\sin(x^2)]^2$'])\n",
    "\n",
    "Writing a string as `r'$<LaTeX code here>$'` tells matplotlib to process the strings as LaTeX math code. LaTeX is a programming language for typesetting pretty documents. You'll want to learn it at some point in your physics career, but you don't need to worry about it now."
   ]
  },
  {
   "cell_type": "markdown",
   "metadata": {},
   "source": [
    "## Plotting Practice: Radioactivity Data\n",
    "\n",
    "[Adapted from Ayars, Problem 0-2] Paste the following code into a code cell to start:\n",
    "\n",
    "    import numpy as np\n",
    "    import matplotlib.pyplot as plt\n",
    "    \n",
    "    ### Load the data here\n",
    "    \n",
    "    plt.figure()    # Start a clean figure for your first plot\n",
    "    \n",
    "    ### Your code for the first plot here!\n",
    "    \n",
    "    plt.figure()    # Start a clean figure for your second plot\n",
    "    \n",
    "    ### Your code for the second plot here!\n",
    "    \n",
    "    plt.show()      # This tells python to display the plots you've made\n",
    "    "
   ]
  },
  {
   "cell_type": "markdown",
   "metadata": {},
   "source": [
    "The file Ba137.txt contains two columns. The first is counts from a Geiger counter, the second is time in seconds. (available here: https://raw.githubusercontent.com/celegante/code_chapter_0-_github/master/Ba137.txt . Right-click the link to save it as a .txt file.) "
   ]
  },
  {
   "cell_type": "markdown",
   "metadata": {},
   "source": [
    "1. Make a useful graph of this data, with axes labels and a title.\n",
    "2. If this data follows an exponential curve, then plotting the natural log of the data (or plotting the raw data on a logarithmic scale) will result in a straight line. Determine whether this is the case, and explain your conclusion with---you guessed it---an appropriate graph."
   ]
  },
  {
   "cell_type": "markdown",
   "metadata": {},
   "source": [
    "Be sure to add comments throughout your code so it's clear what each section of the code is doing! It may help to refer to the lecture notes or Ayars Chapter 0.\n",
    "\n",
    "Try using `'x'` or `'^'` as the marker type in your `plt.plot()` functions (instead of `'g-'`, for instance), to get a single x or triangle for each data point instead of a connected line. Google if you'd like to learn more options!\n",
    "\n",
    "Once you're through, your code should produce two graphs, one with the data, another with the natural log of the data, both labelled appropriately. It should also print out a clear answer to the question in part 2 (e.g., `Yes, the data follows an exponential curve`, or `No, the data does not follow an exponential curve`)."
   ]
  },
  {
   "cell_type": "code",
   "execution_count": 19,
   "metadata": {
    "collapsed": false
   },
   "outputs": [
    {
     "name": "stdout",
     "output_type": "stream",
     "text": [
      "[ 10.22683836  10.19667942  10.16033664  10.11573192  10.08626734\n",
      "  10.03858647  10.02153722   9.96556993   9.90887302   9.88119082\n",
      "   9.8388957    9.80006959   9.75880854   9.71377878   9.67677514\n",
      "   9.62304587   9.60278778   9.55116029   9.51686873   9.45312968\n",
      "   9.44161081   9.38252741   9.33908533   9.31802818   9.26842058\n",
      "   9.22098353   9.18870807   9.14420057   9.08828573   9.04381342\n",
      "   9.00956967   8.97702021   8.93036188   8.90693534   8.83971138\n",
      "   8.81433042   8.77709288   8.71259549   8.67999208   8.63194943\n",
      "   8.58429093   8.55622158   8.50045387   8.44762873   8.42002128\n",
      "   8.38708451   8.32336569]\n",
      "It is a line on a logarithmic scale so it the graph follows an exponential curve\n"
     ]
    },
    {
     "data": {
      "image/png": "[encoded data removed]",
      "text/plain": [
       "<matplotlib.figure.Figure at 0x11a882dd0>"
      ]
     },
     "metadata": {},
     "output_type": "display_data"
    }
   ],
   "source": [
    "import numpy as np\n",
    "import matplotlib.pyplot as plt\n",
    "from scipy.optimize import curve_fit\n",
    "from pylab import *\n",
    "\n",
    "### Load the data here\n",
    "plt.figure()\n",
    "y, x = np.loadtxt('ba137.txt', unpack = True)\n",
    "print log(y)\n",
    "plt.plot(x,log(y), \"rx\", label = \" Original Points\")\n",
    "#time = np.linspace(0.0,40000.0, 100)\n",
    "#height = np.log(time)\n",
    "#plt.plot((time), height, label = \"Natural log\")\n",
    "axes = plt.gca()\n",
    "axes.set_xlim([0,500])\n",
    "axes.set_ylim([0,11])\n",
    "plt.xlabel(\"Time (s)\")\n",
    "plt.ylabel(\"Number of decays (N)\")\n",
    "plt.title(\"BA 137 half life\")\n",
    "plt.legend()\n",
    "#%matplotlib inline\n",
    "\n",
    "y, x = np.loadtxt('ba137.txt', unpack = True)\n",
    "#plt.plot(x, y, label =\"data\")\n",
    "#plt.loglog(y , np.exp(x/20) , basex = 10)\n",
    "\n",
    "plt.grid(True)\n",
    "print(\"It is a line on a logarithmic scale so it the graph follows an exponential curve\")\n",
    "\n",
    "plt.xlabel(\"Time (s)\")\n",
    "plt.ylabel(\"Number of decays (N)\")\n",
    "plt.title(\"BA 137 half life\")\n",
    "plt.legend()\n",
    "plt.show()      # This tells python to display the plots you've made\n",
    "\n"
   ]
  },
  {
   "cell_type": "markdown",
   "metadata": {},
   "source": [
    "#### Hints\n",
    "\n",
    "Put the file in the same directory as your python file, and use numpy's `loadtxt` or `genfromtxt` function to load each column into an array for use in your plots. \n",
    "\n",
    "If your file isn't loading correctly, it might be because your IPython working directory isn't the same as the directory your script and Ba137.txt are in.)\n",
    "\n",
    "If you'd like to learn more about what `loadtxt` does (or why the `unpack = True` option is important), type `loadtxt?` or `help(loadtxt)` into the python interpreter for documentation. Press `q` to get out of the documentation."
   ]
  },
  {
   "cell_type": "markdown",
   "metadata": {},
   "source": [
    "## You're done!\n",
    "\n",
    "Congratulations, you've finished this week's workshop! You're welcome to leave early or get started on this week's homework."
   ]
  }
 ],
 "metadata": {
  "kernelspec": {
   "display_name": "Python 2",
   "language": "python",
   "name": "python2"
  },
  "language_info": {
   "codemirror_mode": {
    "name": "ipython",
    "version": 2
   },
   "file_extension": ".py",
   "mimetype": "text/x-python",
   "name": "python",
   "nbconvert_exporter": "python",
   "pygments_lexer": "ipython2",
   "version": "2.7.11"
  }
 },
 "nbformat": 4,
 "nbformat_minor": 0
}
