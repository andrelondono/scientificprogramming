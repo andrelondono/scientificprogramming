{
 "cells": [
  {
   "cell_type": "markdown",
   "metadata": {},
   "source": [
    "# Lecture 8\n",
    "\n",
    "## Numerical Integration"
   ]
  },
  {
   "cell_type": "markdown",
   "metadata": {},
   "source": [
    "Integrate the function $g(t)=exp(−t^4)$ from -2 to 2 using the Trapezoidal rule, defined by\n",
    "\n",
    "$\\int_a^b f(x)dx \\approx h\\left( {1\\over2}(f(a) + f(b)) +\\sum_{i=1}^{n-1} f(a+ih)\\right), \\quad h = (b-a)/n$"
   ]
  },
  {
   "cell_type": "code",
   "execution_count": 1,
   "metadata": {
    "collapsed": false
   },
   "outputs": [
    {
     "name": "stdout",
     "output_type": "stream",
     "text": [
      "-16.4847866486\n"
     ]
    }
   ],
   "source": [
    "def Trapezoidal(f, a, b, n):\n",
    "    h = (b-a)/float(n)\n",
    "    s = 0.5*(f(a) + f(b))\n",
    "    for i in range(1,n,1):\n",
    "        s = s + f(a + i*h)\n",
    "    return h*s\n",
    "\n",
    "from math import  sin, cos, atan, pi\n",
    "\n",
    "\n",
    "g2 = lambda x: x**3-x**2+3*x-cos(x)*x+atan(sin(x)+1)\n",
    "\n",
    "a = -2;  b = 2\n",
    "n = 1000\n",
    "\n",
    "result2 = Trapezoidal(g2, -pi, pi, n)\n",
    "print result2"
   ]
  },
  {
   "cell_type": "code",
   "execution_count": 14,
   "metadata": {
    "collapsed": false
   },
   "outputs": [
    {
     "name": "stdout",
     "output_type": "stream",
     "text": [
      "1.81280494737\n"
     ]
    }
   ],
   "source": [
    "def Trapezoidal(f, a, b, n):\n",
    "    h = (b-a)/float(n)\n",
    "    s = 0.5*(f(a) + f(b))\n",
    "    for i in range(1,n,1):\n",
    "        s = s + f(a + i*h)\n",
    "    return h*s\n",
    "\n",
    "from math import exp\n",
    "def g1(t):\n",
    "    return exp(-t**4)\n",
    "\n",
    "a = -2;  b = 2\n",
    "n = 1000\n",
    "\n",
    "result1 = Trapezoidal(g1, a, b, n)\n",
    "print result1\n"
   ]
  },
  {
   "cell_type": "code",
   "execution_count": 15,
   "metadata": {
    "collapsed": false
   },
   "outputs": [
    {
     "name": "stdout",
     "output_type": "stream",
     "text": [
      "1.81280494783\n"
     ]
    }
   ],
   "source": [
    "def simpson_rule(f, a, b, n):\n",
    "    h = (b-a)/float(n)\n",
    "    s = 0.5*(f(a) + f(b))\n",
    "    for i in range(1,n,2):\n",
    "        s = s + (4*f(a + i*h)+2*f(a+(i+1)*h))/3\n",
    "    return h*s\n",
    "\n",
    "from math import exp\n",
    "def g1(t):\n",
    "    return exp(-t**4)\n",
    "\n",
    "#a = -2;  b = 2; n = 1000\n",
    "result3 = simpson_rule(g1, a, b, n)\n",
    "print result3"
   ]
  },
  {
   "cell_type": "code",
   "execution_count": 16,
   "metadata": {
    "collapsed": false
   },
   "outputs": [
    {
     "name": "stdout",
     "output_type": "stream",
     "text": [
      "1.81280494689\n"
     ]
    }
   ],
   "source": [
    "import numpy as np\n",
    "import math\n",
    "x=np.arange(a, b, 4./n)\n",
    "y=np.exp(-(x**4))\n",
    "res1=np.trapz(y,x)\n",
    "print res1"
   ]
  },
  {
   "cell_type": "code",
   "execution_count": 17,
   "metadata": {
    "collapsed": false
   },
   "outputs": [
    {
     "name": "stdout",
     "output_type": "stream",
     "text": [
      "1.8128049469\n"
     ]
    }
   ],
   "source": [
    "from scipy.integrate import simps\n",
    "import numpy as np\n",
    "x=np.arange(a, b, 4./n)\n",
    "y=np.exp(-(x**4))\n",
    "res3=simps(y,x)\n",
    "print res3"
   ]
  },
  {
   "cell_type": "code",
   "execution_count": 18,
   "metadata": {
    "collapsed": false
   },
   "outputs": [
    {
     "name": "stdout",
     "output_type": "stream",
     "text": [
      "1.81280494738 +/- 1.6721297046e-12\n"
     ]
    }
   ],
   "source": [
    "from scipy.integrate import quad\n",
    "import numpy as np\n",
    "\n",
    "from math import exp\n",
    "def g1(t):\n",
    "    return exp(-t**4)\n",
    "\n",
    "res4,eps=quad(g1,a,b)\n",
    "print res4, \"+/-\", eps"
   ]
  },
  {
   "cell_type": "code",
   "execution_count": 19,
   "metadata": {
    "collapsed": false
   },
   "outputs": [
    {
     "name": "stdout",
     "output_type": "stream",
     "text": [
      "Trapezoid Rule              =  1.81280494737\n",
      "Builtin Trapezoid           =  1.81280494689\n",
      "Simpsons Rule               =  1.81280494783\n",
      "Builtin Simpsons Rule       =  1.8128049469\n",
      "Builtin Gaussian Quadrature =  1.81280494738\n"
     ]
    }
   ],
   "source": [
    "print 'Trapezoid Rule              = ', result1\n",
    "print 'Builtin Trapezoid           = ', res1\n",
    "print 'Simpsons Rule               = ', result3\n",
    "print 'Builtin Simpsons Rule       = ', res3\n",
    "print 'Builtin Gaussian Quadrature = ', res4"
   ]
  },
  {
   "cell_type": "code",
   "execution_count": null,
   "metadata": {
    "collapsed": true
   },
   "outputs": [],
   "source": []
  }
 ],
 "metadata": {
  "kernelspec": {
   "display_name": "Python 2",
   "language": "python",
   "name": "python2"
  },
  "language_info": {
   "codemirror_mode": {
    "name": "ipython",
    "version": 2
   },
   "file_extension": ".py",
   "mimetype": "text/x-python",
   "name": "python",
   "nbconvert_exporter": "python",
   "pygments_lexer": "ipython2",
   "version": "2.7.11"
  }
 },
 "nbformat": 4,
 "nbformat_minor": 0
}
